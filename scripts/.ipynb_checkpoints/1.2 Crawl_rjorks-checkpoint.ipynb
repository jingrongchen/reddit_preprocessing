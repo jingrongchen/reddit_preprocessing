{
 "cells": [
  {
   "cell_type": "code",
   "execution_count": 1,
   "id": "a35d9c02",
   "metadata": {},
   "outputs": [],
   "source": [
    "import os\n",
    "import time\n",
    "import json\n",
    "import random\n",
    "import requests\n",
    "import numpy as np\n",
    "import pandas as pd\n",
    "from tqdm import tqdm\n",
    "from datetime import datetime\n",
    "from datetime import timezone"
   ]
  },
  {
   "cell_type": "markdown",
   "id": "dbdf3ac2",
   "metadata": {},
   "source": [
    "# Crawl Submissions from r/Jokes"
   ]
  },
  {
   "cell_type": "code",
   "execution_count": 285,
   "id": "0219da68",
   "metadata": {},
   "outputs": [
    {
     "name": "stdout",
     "output_type": "stream",
     "text": [
      "2019-01-01 00:00:00 1546300800.0\n"
     ]
    }
   ],
   "source": [
    "end_date = datetime(2019, 1, 1)\n",
    "end_timestamp = end_date.replace(tzinfo = timezone.utc).timestamp()\n",
    "print(end_date, end_timestamp)"
   ]
  },
  {
   "cell_type": "code",
   "execution_count": 286,
   "id": "95c0b680",
   "metadata": {},
   "outputs": [
    {
     "name": "stdout",
     "output_type": "stream",
     "text": [
      "2018-12-31 00:00:00 1546214400.0\n"
     ]
    }
   ],
   "source": [
    "start_date = datetime(2018, 12, 31)\n",
    "start_timestamp = start_date.replace(tzinfo = timezone.utc).timestamp()\n",
    "print(start_date, start_timestamp)"
   ]
  },
  {
   "cell_type": "code",
   "execution_count": 287,
   "id": "d62c59c5",
   "metadata": {},
   "outputs": [],
   "source": [
    "submission_cols = ['id', 'created_utc', 'title', 'selftext', 'num_comments', 'subreddit', 'subreddit_id']\n",
    "submission_cols_opt = ['score', 'author_fullname', 'link_flair_text']\n",
    "\n",
    "submission_dict = {col: [] for col in submission_cols + submission_cols_opt}"
   ]
  },
  {
   "cell_type": "code",
   "execution_count": 288,
   "id": "accd6024",
   "metadata": {},
   "outputs": [],
   "source": [
    "def is_json(json_data):\n",
    "    try:\n",
    "        json_object = json.loads(json_data)\n",
    "    except:\n",
    "        return False\n",
    "    return True"
   ]
  },
  {
   "cell_type": "code",
   "execution_count": 289,
   "id": "9f422f87",
   "metadata": {},
   "outputs": [
    {
     "name": "stdout",
     "output_type": "stream",
     "text": [
      "Crawling from 2018-12-31 00:00:00+00:00 to 2019-01-01 00:00:00+00:00...\n"
     ]
    }
   ],
   "source": [
    "current_timestamp = end_timestamp\n",
    "url = 'https://api.pushshift.io/reddit/search/submission/'\n",
    "while current_timestamp > start_timestamp:\n",
    "    if (current_timestamp - end_timestamp) % 86400 == 0:\n",
    "        date_1 = datetime.fromtimestamp(current_timestamp - 86400, timezone.utc)\n",
    "        date_2 = datetime.fromtimestamp(current_timestamp, timezone.utc)\n",
    "        print('Crawling from {} to {}...'.format(date_1, date_2))\n",
    "    params = {\n",
    "        'subreddit': 'AskReddit',\n",
    "        'sort': 'desc',\n",
    "        'sort_type': 'created_utc',\n",
    "        'after': str(int(current_timestamp - 3600 - 1)),\n",
    "        'before': str(int(current_timestamp)),\n",
    "        'size': '100'\n",
    "    }\n",
    "    res = requests.get(url, params = params)\n",
    "    if is_json(res.text):\n",
    "        submissions = res.json()['data']\n",
    "        for submission in submissions:\n",
    "\n",
    "            all_cols_exist = True\n",
    "            for col in submission_cols:\n",
    "                if col not in submission:\n",
    "                    all_cols_exist = False\n",
    "                    break\n",
    "            if not all_cols_exist:\n",
    "                continue\n",
    "\n",
    "            for col in submission_cols:\n",
    "                submission_dict[col].append(submission[col])\n",
    "\n",
    "            for col in submission_cols_opt:\n",
    "                if col in submission:\n",
    "                    submission_dict[col].append(submission[col])\n",
    "                else:\n",
    "                    submission_dict[col].append(None)\n",
    "\n",
    "    current_timestamp = current_timestamp - 3600"
   ]
  },
  {
   "cell_type": "code",
   "execution_count": 290,
   "id": "ff683391",
   "metadata": {},
   "outputs": [
    {
     "name": "stdout",
     "output_type": "stream",
     "text": [
      "1797 1797\n"
     ]
    },
    {
     "data": {
      "text/html": [
       "<div>\n",
       "<style scoped>\n",
       "    .dataframe tbody tr th:only-of-type {\n",
       "        vertical-align: middle;\n",
       "    }\n",
       "\n",
       "    .dataframe tbody tr th {\n",
       "        vertical-align: top;\n",
       "    }\n",
       "\n",
       "    .dataframe thead th {\n",
       "        text-align: right;\n",
       "    }\n",
       "</style>\n",
       "<table border=\"1\" class=\"dataframe\">\n",
       "  <thead>\n",
       "    <tr style=\"text-align: right;\">\n",
       "      <th></th>\n",
       "      <th>id</th>\n",
       "      <th>created_utc</th>\n",
       "      <th>title</th>\n",
       "      <th>selftext</th>\n",
       "      <th>num_comments</th>\n",
       "      <th>subreddit</th>\n",
       "      <th>subreddit_id</th>\n",
       "      <th>score</th>\n",
       "      <th>author_fullname</th>\n",
       "      <th>link_flair_text</th>\n",
       "    </tr>\n",
       "  </thead>\n",
       "  <tbody>\n",
       "    <tr>\n",
       "      <th>0</th>\n",
       "      <td>abcuf1</td>\n",
       "      <td>1546300798</td>\n",
       "      <td>What's your story when you thought you were go...</td>\n",
       "      <td></td>\n",
       "      <td>3</td>\n",
       "      <td>AskReddit</td>\n",
       "      <td>t5_2qh1i</td>\n",
       "      <td>1</td>\n",
       "      <td>t2_khnlj</td>\n",
       "      <td>None</td>\n",
       "    </tr>\n",
       "    <tr>\n",
       "      <th>1</th>\n",
       "      <td>abcubk</td>\n",
       "      <td>1546300779</td>\n",
       "      <td>What is the best new song you heard in 2018?</td>\n",
       "      <td>[removed]</td>\n",
       "      <td>2</td>\n",
       "      <td>AskReddit</td>\n",
       "      <td>t5_2qh1i</td>\n",
       "      <td>1</td>\n",
       "      <td>t2_sbdyn</td>\n",
       "      <td>None</td>\n",
       "    </tr>\n",
       "    <tr>\n",
       "      <th>2</th>\n",
       "      <td>abcub2</td>\n",
       "      <td>1546300776</td>\n",
       "      <td>Facebook activity log doesn’t show deleted act...</td>\n",
       "      <td></td>\n",
       "      <td>2</td>\n",
       "      <td>AskReddit</td>\n",
       "      <td>t5_2qh1i</td>\n",
       "      <td>1</td>\n",
       "      <td>t2_18ysv29a</td>\n",
       "      <td>None</td>\n",
       "    </tr>\n",
       "    <tr>\n",
       "      <th>3</th>\n",
       "      <td>abcu87</td>\n",
       "      <td>1546300761</td>\n",
       "      <td>What's a story you will \"take to the grave?\"</td>\n",
       "      <td></td>\n",
       "      <td>3</td>\n",
       "      <td>AskReddit</td>\n",
       "      <td>t5_2qh1i</td>\n",
       "      <td>1</td>\n",
       "      <td>t2_gov0d</td>\n",
       "      <td>None</td>\n",
       "    </tr>\n",
       "    <tr>\n",
       "      <th>4</th>\n",
       "      <td>abcu84</td>\n",
       "      <td>1546300760</td>\n",
       "      <td>What is the one thing you would tell your high...</td>\n",
       "      <td></td>\n",
       "      <td>11</td>\n",
       "      <td>AskReddit</td>\n",
       "      <td>t5_2qh1i</td>\n",
       "      <td>1</td>\n",
       "      <td>t2_iqiytqf</td>\n",
       "      <td>None</td>\n",
       "    </tr>\n",
       "    <tr>\n",
       "      <th>...</th>\n",
       "      <td>...</td>\n",
       "      <td>...</td>\n",
       "      <td>...</td>\n",
       "      <td>...</td>\n",
       "      <td>...</td>\n",
       "      <td>...</td>\n",
       "      <td>...</td>\n",
       "      <td>...</td>\n",
       "      <td>...</td>\n",
       "      <td>...</td>\n",
       "    </tr>\n",
       "    <tr>\n",
       "      <th>1792</th>\n",
       "      <td>ab2crb</td>\n",
       "      <td>1546220742</td>\n",
       "      <td>What're some good resources, specifically onli...</td>\n",
       "      <td></td>\n",
       "      <td>3</td>\n",
       "      <td>AskReddit</td>\n",
       "      <td>t5_2qh1i</td>\n",
       "      <td>1</td>\n",
       "      <td>t2_2w1ipcob</td>\n",
       "      <td>None</td>\n",
       "    </tr>\n",
       "    <tr>\n",
       "      <th>1793</th>\n",
       "      <td>ab2cqp</td>\n",
       "      <td>1546220739</td>\n",
       "      <td>What was your favorite subreddit that you foun...</td>\n",
       "      <td></td>\n",
       "      <td>16</td>\n",
       "      <td>AskReddit</td>\n",
       "      <td>t5_2qh1i</td>\n",
       "      <td>1</td>\n",
       "      <td>t2_25i4wvh</td>\n",
       "      <td>None</td>\n",
       "    </tr>\n",
       "    <tr>\n",
       "      <th>1794</th>\n",
       "      <td>ab2cqd</td>\n",
       "      <td>1546220737</td>\n",
       "      <td>Is/was there a teacher who made a difference i...</td>\n",
       "      <td></td>\n",
       "      <td>5</td>\n",
       "      <td>AskReddit</td>\n",
       "      <td>t5_2qh1i</td>\n",
       "      <td>1</td>\n",
       "      <td>t2_grk8w</td>\n",
       "      <td>None</td>\n",
       "    </tr>\n",
       "    <tr>\n",
       "      <th>1795</th>\n",
       "      <td>ab2cpb</td>\n",
       "      <td>1546220732</td>\n",
       "      <td>What's the worst thing you got punished for as...</td>\n",
       "      <td></td>\n",
       "      <td>4</td>\n",
       "      <td>AskReddit</td>\n",
       "      <td>t5_2qh1i</td>\n",
       "      <td>1</td>\n",
       "      <td>t2_2ocyj45s</td>\n",
       "      <td>None</td>\n",
       "    </tr>\n",
       "    <tr>\n",
       "      <th>1796</th>\n",
       "      <td>ab2cot</td>\n",
       "      <td>1546220730</td>\n",
       "      <td>If you work/have worked at a hibachi restauran...</td>\n",
       "      <td>[removed]</td>\n",
       "      <td>2</td>\n",
       "      <td>AskReddit</td>\n",
       "      <td>t5_2qh1i</td>\n",
       "      <td>1</td>\n",
       "      <td>t2_leqm9</td>\n",
       "      <td>None</td>\n",
       "    </tr>\n",
       "  </tbody>\n",
       "</table>\n",
       "<p>1797 rows × 10 columns</p>\n",
       "</div>"
      ],
      "text/plain": [
       "          id  created_utc                                              title  \\\n",
       "0     abcuf1   1546300798  What's your story when you thought you were go...   \n",
       "1     abcubk   1546300779       What is the best new song you heard in 2018?   \n",
       "2     abcub2   1546300776  Facebook activity log doesn’t show deleted act...   \n",
       "3     abcu87   1546300761       What's a story you will \"take to the grave?\"   \n",
       "4     abcu84   1546300760  What is the one thing you would tell your high...   \n",
       "...      ...          ...                                                ...   \n",
       "1792  ab2crb   1546220742  What're some good resources, specifically onli...   \n",
       "1793  ab2cqp   1546220739  What was your favorite subreddit that you foun...   \n",
       "1794  ab2cqd   1546220737  Is/was there a teacher who made a difference i...   \n",
       "1795  ab2cpb   1546220732  What's the worst thing you got punished for as...   \n",
       "1796  ab2cot   1546220730  If you work/have worked at a hibachi restauran...   \n",
       "\n",
       "       selftext  num_comments  subreddit subreddit_id  score author_fullname  \\\n",
       "0                           3  AskReddit     t5_2qh1i      1        t2_khnlj   \n",
       "1     [removed]             2  AskReddit     t5_2qh1i      1        t2_sbdyn   \n",
       "2                           2  AskReddit     t5_2qh1i      1     t2_18ysv29a   \n",
       "3                           3  AskReddit     t5_2qh1i      1        t2_gov0d   \n",
       "4                          11  AskReddit     t5_2qh1i      1      t2_iqiytqf   \n",
       "...         ...           ...        ...          ...    ...             ...   \n",
       "1792                        3  AskReddit     t5_2qh1i      1     t2_2w1ipcob   \n",
       "1793                       16  AskReddit     t5_2qh1i      1      t2_25i4wvh   \n",
       "1794                        5  AskReddit     t5_2qh1i      1        t2_grk8w   \n",
       "1795                        4  AskReddit     t5_2qh1i      1     t2_2ocyj45s   \n",
       "1796  [removed]             2  AskReddit     t5_2qh1i      1        t2_leqm9   \n",
       "\n",
       "     link_flair_text  \n",
       "0               None  \n",
       "1               None  \n",
       "2               None  \n",
       "3               None  \n",
       "4               None  \n",
       "...              ...  \n",
       "1792            None  \n",
       "1793            None  \n",
       "1794            None  \n",
       "1795            None  \n",
       "1796            None  \n",
       "\n",
       "[1797 rows x 10 columns]"
      ]
     },
     "execution_count": 290,
     "metadata": {},
     "output_type": "execute_result"
    }
   ],
   "source": [
    "print(len(submission_dict['id']), len(set(submission_dict['id'])))\n",
    "submission_df = pd.DataFrame(submission_dict)\n",
    "submission_df"
   ]
  },
  {
   "cell_type": "code",
   "execution_count": 291,
   "id": "b05cc00a",
   "metadata": {},
   "outputs": [],
   "source": [
    "submission_df.to_csv('../pushshift/sub_test.csv', index = False)"
   ]
  },
  {
   "cell_type": "markdown",
   "id": "418bae2c",
   "metadata": {},
   "source": [
    "# Crawl Comments ids According to the Submissions"
   ]
  },
  {
   "cell_type": "code",
   "execution_count": 306,
   "id": "cc2161e0",
   "metadata": {},
   "outputs": [
    {
     "data": {
      "text/html": [
       "<div>\n",
       "<style scoped>\n",
       "    .dataframe tbody tr th:only-of-type {\n",
       "        vertical-align: middle;\n",
       "    }\n",
       "\n",
       "    .dataframe tbody tr th {\n",
       "        vertical-align: top;\n",
       "    }\n",
       "\n",
       "    .dataframe thead th {\n",
       "        text-align: right;\n",
       "    }\n",
       "</style>\n",
       "<table border=\"1\" class=\"dataframe\">\n",
       "  <thead>\n",
       "    <tr style=\"text-align: right;\">\n",
       "      <th></th>\n",
       "      <th>id</th>\n",
       "      <th>created_utc</th>\n",
       "      <th>title</th>\n",
       "      <th>selftext</th>\n",
       "      <th>num_comments</th>\n",
       "      <th>subreddit</th>\n",
       "      <th>subreddit_id</th>\n",
       "      <th>score</th>\n",
       "      <th>author_fullname</th>\n",
       "      <th>link_flair_text</th>\n",
       "    </tr>\n",
       "  </thead>\n",
       "  <tbody>\n",
       "    <tr>\n",
       "      <th>326</th>\n",
       "      <td>abb5l5</td>\n",
       "      <td>1546289705</td>\n",
       "      <td>When and how did you discover you had a fetish?</td>\n",
       "      <td>NaN</td>\n",
       "      <td>4187</td>\n",
       "      <td>AskReddit</td>\n",
       "      <td>t5_2qh1i</td>\n",
       "      <td>1</td>\n",
       "      <td>t2_l6g02</td>\n",
       "      <td>NaN</td>\n",
       "    </tr>\n",
       "  </tbody>\n",
       "</table>\n",
       "</div>"
      ],
      "text/plain": [
       "         id  created_utc                                            title  \\\n",
       "326  abb5l5   1546289705  When and how did you discover you had a fetish?   \n",
       "\n",
       "    selftext  num_comments  subreddit subreddit_id  score author_fullname  \\\n",
       "326      NaN          4187  AskReddit     t5_2qh1i      1        t2_l6g02   \n",
       "\n",
       "    link_flair_text  \n",
       "326             NaN  "
      ]
     },
     "execution_count": 306,
     "metadata": {},
     "output_type": "execute_result"
    }
   ],
   "source": [
    "# submission_df = pd.read_csv('../pushshift/jokes_submissions_2021_1_1_2022_1_1.csv')\n",
    "submission_df = pd.read_csv('../pushshift/sub_test.csv')\n",
    "submission_df=submission_df.sort_values(by=['num_comments'],ascending=False)\n",
    "submission_df=submission_df.head(1)\n",
    "submission_df"
   ]
  },
  {
   "cell_type": "code",
   "execution_count": 307,
   "id": "d33093c4",
   "metadata": {},
   "outputs": [],
   "source": [
    "submission_df=submission_df[submission_df[\"num_comments\"]>1]"
   ]
  },
  {
   "cell_type": "code",
   "execution_count": 308,
   "id": "be7cb793",
   "metadata": {},
   "outputs": [
    {
     "data": {
      "text/html": [
       "<div>\n",
       "<style scoped>\n",
       "    .dataframe tbody tr th:only-of-type {\n",
       "        vertical-align: middle;\n",
       "    }\n",
       "\n",
       "    .dataframe tbody tr th {\n",
       "        vertical-align: top;\n",
       "    }\n",
       "\n",
       "    .dataframe thead th {\n",
       "        text-align: right;\n",
       "    }\n",
       "</style>\n",
       "<table border=\"1\" class=\"dataframe\">\n",
       "  <thead>\n",
       "    <tr style=\"text-align: right;\">\n",
       "      <th></th>\n",
       "      <th>id</th>\n",
       "      <th>created_utc</th>\n",
       "      <th>title</th>\n",
       "      <th>selftext</th>\n",
       "      <th>num_comments</th>\n",
       "      <th>subreddit</th>\n",
       "      <th>subreddit_id</th>\n",
       "      <th>score</th>\n",
       "      <th>author_fullname</th>\n",
       "      <th>link_flair_text</th>\n",
       "    </tr>\n",
       "  </thead>\n",
       "  <tbody>\n",
       "    <tr>\n",
       "      <th>326</th>\n",
       "      <td>abb5l5</td>\n",
       "      <td>1546289705</td>\n",
       "      <td>When and how did you discover you had a fetish?</td>\n",
       "      <td>NaN</td>\n",
       "      <td>4187</td>\n",
       "      <td>AskReddit</td>\n",
       "      <td>t5_2qh1i</td>\n",
       "      <td>1</td>\n",
       "      <td>t2_l6g02</td>\n",
       "      <td>NaN</td>\n",
       "    </tr>\n",
       "  </tbody>\n",
       "</table>\n",
       "</div>"
      ],
      "text/plain": [
       "         id  created_utc                                            title  \\\n",
       "326  abb5l5   1546289705  When and how did you discover you had a fetish?   \n",
       "\n",
       "    selftext  num_comments  subreddit subreddit_id  score author_fullname  \\\n",
       "326      NaN          4187  AskReddit     t5_2qh1i      1        t2_l6g02   \n",
       "\n",
       "    link_flair_text  \n",
       "326             NaN  "
      ]
     },
     "execution_count": 308,
     "metadata": {},
     "output_type": "execute_result"
    }
   ],
   "source": [
    "submission_df=submission_df.head(10)\n",
    "submission_df"
   ]
  },
  {
   "cell_type": "code",
   "execution_count": 309,
   "id": "f55e4867",
   "metadata": {},
   "outputs": [
    {
     "data": {
      "text/html": [
       "<div>\n",
       "<style scoped>\n",
       "    .dataframe tbody tr th:only-of-type {\n",
       "        vertical-align: middle;\n",
       "    }\n",
       "\n",
       "    .dataframe tbody tr th {\n",
       "        vertical-align: top;\n",
       "    }\n",
       "\n",
       "    .dataframe thead th {\n",
       "        text-align: right;\n",
       "    }\n",
       "</style>\n",
       "<table border=\"1\" class=\"dataframe\">\n",
       "  <thead>\n",
       "    <tr style=\"text-align: right;\">\n",
       "      <th></th>\n",
       "      <th>id</th>\n",
       "      <th>created_utc</th>\n",
       "      <th>title</th>\n",
       "      <th>selftext</th>\n",
       "      <th>num_comments</th>\n",
       "      <th>subreddit</th>\n",
       "      <th>subreddit_id</th>\n",
       "      <th>score</th>\n",
       "      <th>author_fullname</th>\n",
       "      <th>link_flair_text</th>\n",
       "    </tr>\n",
       "  </thead>\n",
       "  <tbody>\n",
       "    <tr>\n",
       "      <th>326</th>\n",
       "      <td>abb5l5</td>\n",
       "      <td>1546289705</td>\n",
       "      <td>When and how did you discover you had a fetish?</td>\n",
       "      <td>NaN</td>\n",
       "      <td>4187</td>\n",
       "      <td>AskReddit</td>\n",
       "      <td>t5_2qh1i</td>\n",
       "      <td>1</td>\n",
       "      <td>t2_l6g02</td>\n",
       "      <td>NaN</td>\n",
       "    </tr>\n",
       "  </tbody>\n",
       "</table>\n",
       "</div>"
      ],
      "text/plain": [
       "         id  created_utc                                            title  \\\n",
       "326  abb5l5   1546289705  When and how did you discover you had a fetish?   \n",
       "\n",
       "    selftext  num_comments  subreddit subreddit_id  score author_fullname  \\\n",
       "326      NaN          4187  AskReddit     t5_2qh1i      1        t2_l6g02   \n",
       "\n",
       "    link_flair_text  \n",
       "326             NaN  "
      ]
     },
     "execution_count": 309,
     "metadata": {},
     "output_type": "execute_result"
    }
   ],
   "source": [
    "submission_df"
   ]
  },
  {
   "cell_type": "code",
   "execution_count": 310,
   "id": "a6ceaf21",
   "metadata": {},
   "outputs": [
    {
     "name": "stderr",
     "output_type": "stream",
     "text": [
      "\n",
      "  0%|                                                     | 0/1 [00:00<?, ?it/s]\u001b[A\n",
      "100%|█████████████████████████████████████████████| 1/1 [00:02<00:00,  2.04s/it]\u001b[A\n"
     ]
    }
   ],
   "source": [
    "comment_ids = []\n",
    "ids_length=len(submission_df)\n",
    "\n",
    "\n",
    "for i in tqdm(range(submission_df.shape[0])):\n",
    "    submission_id = submission_df.iloc[i]['id']\n",
    "    url = 'https://api.pushshift.io/reddit/submission/comment_ids/{}'.format(submission_id)\n",
    "    res = requests.get(url)\n",
    "    if is_json(res.text):\n",
    "        comment_ids += res.json()['data']"
   ]
  },
  {
   "cell_type": "code",
   "execution_count": 297,
   "id": "7d9667ec",
   "metadata": {},
   "outputs": [
    {
     "data": {
      "text/plain": [
       "4197"
      ]
     },
     "execution_count": 297,
     "metadata": {},
     "output_type": "execute_result"
    }
   ],
   "source": [
    "len(comment_ids)"
   ]
  },
  {
   "cell_type": "code",
   "execution_count": 298,
   "id": "0219c25d",
   "metadata": {},
   "outputs": [],
   "source": [
    "pd.DataFrame({'id': comment_ids}).to_csv('../pushshift/askreddit_comment_ids_test.csv', index = False)"
   ]
  },
  {
   "cell_type": "code",
   "execution_count": 49,
   "id": "373e6fda",
   "metadata": {},
   "outputs": [],
   "source": [
    "pd.DataFrame({'id': comment_ids}).to_csv('../pushshift/jokes_comment_ids_2021_1_1_2022_1_1.csv', index = False)"
   ]
  },
  {
   "cell_type": "markdown",
   "id": "d3fea705",
   "metadata": {},
   "source": [
    "# crawl comment"
   ]
  },
  {
   "cell_type": "code",
   "execution_count": 176,
   "id": "953a0d12",
   "metadata": {},
   "outputs": [],
   "source": [
    "comment_ids=pd.read_csv(\"../pushshift/jokes_comment_ids_2021_1_1_2022_1_1.csv\")"
   ]
  },
  {
   "cell_type": "code",
   "execution_count": null,
   "id": "0cb2d791",
   "metadata": {},
   "outputs": [],
   "source": []
  },
  {
   "cell_type": "code",
   "execution_count": null,
   "id": "c80b8067",
   "metadata": {},
   "outputs": [],
   "source": []
  },
  {
   "cell_type": "code",
   "execution_count": null,
   "id": "bcbe56e8",
   "metadata": {},
   "outputs": [],
   "source": []
  },
  {
   "cell_type": "code",
   "execution_count": 318,
   "id": "0dff9f96",
   "metadata": {},
   "outputs": [],
   "source": [
    "comment_ids=pd.read_csv(\"../pushshift/askreddit_comment_ids_test.csv\")"
   ]
  },
  {
   "cell_type": "code",
   "execution_count": 329,
   "id": "1e0e18f6",
   "metadata": {},
   "outputs": [],
   "source": [
    "comment_cols = ['id', 'link_id', 'parent_id', 'created_utc', 'body', 'subreddit', 'subreddit_id']\n",
    "comment_cols_opt = ['score', 'author_fullname']\n",
    "comment_dict = {col: [] for col in comment_cols + comment_cols_opt}"
   ]
  },
  {
   "cell_type": "code",
   "execution_count": 357,
   "id": "865b78bb",
   "metadata": {},
   "outputs": [],
   "source": [
    "def is_json(json_data):\n",
    "    try:\n",
    "        json_object = json.loads(json_data)\n",
    "    except:\n",
    "        return False\n",
    "    return True"
   ]
  },
  {
   "cell_type": "code",
   "execution_count": 368,
   "id": "255b5030",
   "metadata": {},
   "outputs": [],
   "source": [
    "def crawl_comments(comment_query):\n",
    "    url = 'https://api.pushshift.io/reddit/comment/search?ids={}'.format(comment_query)\n",
    "    res = requests.get(url)\n",
    "#     print(url)\n",
    "    if not is_json(res.text):\n",
    "        return\n",
    "    comments = res.json()['data']\n",
    "\n",
    "    for comment in comments:\n",
    "        all_cols_exist = True\n",
    "        for col in comment_cols:\n",
    "            if col not in comment:\n",
    "                all_cols_exist = False\n",
    "                break\n",
    "        if not all_cols_exist:\n",
    "            continue\n",
    "\n",
    "        for col in comment_cols:\n",
    "            comment_dict[col].append(comment[col])\n",
    "\n",
    "        for col in comment_cols_opt:\n",
    "            if col in comment:\n",
    "                comment_dict[col].append(comment[col])\n",
    "            else:\n",
    "                comment_dict[col].append(None)"
   ]
  },
  {
   "cell_type": "code",
   "execution_count": 370,
   "id": "a08f230d",
   "metadata": {
    "scrolled": false
   },
   "outputs": [
    {
     "name": "stderr",
     "output_type": "stream",
     "text": [
      "  2%|█                                           | 1/41 [00:01<01:12,  1.80s/it]"
     ]
    },
    {
     "name": "stdout",
     "output_type": "stream",
     "text": [
      "https://api.pushshift.io/reddit/comment/search?ids=ecywhgg,ecywzbr,ecyx22j,ecyx3la,ecyxg3k,ecyxjlp,ecyxky6,ecyxmro,ecyxo8j,ecyxqri,ecyxv73,ecyyb7d,ecyyrzi,ecyysk4,ecyyu7r,ecyyufx,ecyyyne,ecyzdxw,ecyzeo2,ecyzhpj,ecyzjxr,ecyzpl7,ecyzrdn,ecz062q,ecz06j0,ecz06w1,ecz07jy,ecz08ld,ecz09ja,ecz0enm,ecz0f9g,ecz0fke,ecz0mgl,ecz0qyl,ecz0um2,ecz0yo4,ecz1467,ecz14w1,ecz181e,ecz1frg,ecz1kce,ecz1vs5,ecz1w5e,ecz1x6v,ecz1zg5,ecz2qhw,ecz3bzg,ecz3thh,ecz3ude,ecz3y7y,ecz46sd,ecz4z6w,ecz5cr4,ecz5w7i,ecz682i,ecz6ew5,ecz6hzj,ecz6pgr,ecz6qcg,ecz6y14,ecz70ut,ecz7gog,ecz7jxw,ecz7mwa,ecz7s3c,ecz7sqi,ecz7xqd,ecz7zii,ecz842q,ecz8bsv,ecz8epb,ecz8m44,ecz8n0x,ecz93se,ecz94fw,ecz982s,ecz9je0,ecz9pm0,ecz9ppi,ecz9t4j,eczak4o,eczakaf,eczanl8,eczas3h,eczb0p0,eczb4o1,eczb8c2,eczbabu,eczbucq,eczbxld,eczc4ai,eczc74l,eczc832,eczc8nd,eczceof,eczcfzp,eczchov,eczciwh,eczcmi3,eczcq2y\n"
     ]
    },
    {
     "name": "stderr",
     "output_type": "stream",
     "text": [
      "\r",
      "  5%|██▏                                         | 2/41 [00:03<01:15,  1.95s/it]"
     ]
    },
    {
     "name": "stdout",
     "output_type": "stream",
     "text": [
      "https://api.pushshift.io/reddit/comment/search?ids=eczcz2l,eczdrek,eczeecp,eczef7o,eczeh5h,eczelq1,eczep4y,eczeqsq,eczevpe,eczewcz,eczf055,eczf31x,eczf3mx,eczf5g4,eczf6zt,eczf90w,eczfbna,eczfduu,eczfg6e,eczfipe,eczfkwd,eczflb3,eczfloi,eczfusv,eczg1vk,eczg1zt,eczg8df,eczgb3p,eczgfiw,eczgi8w,eczgnsp,eczgpdq,eczgrke,eczgtc6,eczgzaa,eczh1k4,eczh1wt,eczh4sd,eczh57y,eczh5lq,eczh7ra,eczh812,eczhas5,eczhe2k,eczhk2c,eczhnc6,eczhrkw,eczhs69,eczhufv,eczhusu,eczhxkw,eczi0jl,eczi1ju,eczi4qz,eczi7qk,eczi9w7,eczib5s,eczif77,eczig5d,ecziib5,eczijj3,eczil9h,eczilxt,eczim2h,eczinba,eczinc1,eczioia,eczipbh,eczirjf,eczithh,eczivew,ecziw3n,eczixm3,eczj03n,eczj24c,eczj4wo,eczj99v,eczjb9o,eczje1w,eczjejw,eczjh9e,eczjhza,eczjipd,eczjlwn,eczjm8f,eczjnxk,eczjr25,eczjtzf,eczjup9,eczjwk4,eczjy2g,eczk00d,eczk3r1,eczk4ai,eczk4og,eczk613,eczk790,eczk9u1,eczka2d,eczkbi7\n"
     ]
    },
    {
     "name": "stderr",
     "output_type": "stream",
     "text": [
      "\r",
      "  7%|███▏                                        | 3/41 [00:05<01:03,  1.67s/it]"
     ]
    },
    {
     "name": "stdout",
     "output_type": "stream",
     "text": [
      "https://api.pushshift.io/reddit/comment/search?ids=eczkdn3,eczkdta,eczkel6,eczkf0e,eczkfvn,eczkhay,eczkhlo,eczkhnr,eczkhqr,eczkm98,eczkoko,eczkoof,eczkpqd,eczkqmq,eczkrhz,eczktnf,eczkup9,eczkvn7,eczkvyy,eczkyty,eczl14f,eczl184,eczl1as,eczl2dg,eczl554,eczl7sl,eczl949,eczl9n8,eczl9tr,eczlatm,eczlayb,eczlbh7,eczlc2n,eczlcpd,eczlcu5,eczldqt,eczldx4,eczle5p,eczlezk,eczlgi2,eczlgpq,eczlh82,eczli51,eczlm1o,eczlmb2,eczlotm,eczlpjq,eczlqj9,eczlrxt,eczlsn9,eczltbz,eczltok,eczlv25,eczlv8n,eczlvxw,eczlzs4,eczm22i,eczm2nr,eczm5cr,eczm5xf,eczm6te,eczm6tz,eczm6yq,eczm8hs,eczma46,eczmbvo,eczmcaz,eczmczj,eczmia6,eczmk01,eczmlcj,eczmlzx,eczmm08,eczmm84,eczmp5q,eczmq1g,eczmqnd,eczmquz,eczmre2,eczmuhd,eczmuzs,eczmvk1,eczn0b2,eczn2gs,eczn35g,eczn4ii,eczn4vn,eczn63k,eczn6fx,eczn6rl,eczn7cz,eczn9cs,ecznbib,ecznbw5,ecznd30,eczng6w,ecznge1,eczngtv,eczngv4,eczngyr\n"
     ]
    },
    {
     "name": "stderr",
     "output_type": "stream",
     "text": [
      "\r",
      " 10%|████▎                                       | 4/41 [00:07<01:04,  1.75s/it]"
     ]
    },
    {
     "name": "stdout",
     "output_type": "stream",
     "text": [
      "https://api.pushshift.io/reddit/comment/search?ids=ecznh8e,ecznhc5,ecznhdv,ecznlqo,ecznmfc,ecznmp0,ecznmry,ecznnz6,eczno19,ecznqow,ecznqr4,ecznr4u,ecznuhu,ecznuky,ecznv91,ecznvak,ecznw6d,ecznwz5,ecznx51,ecznx9k,ecznxky,eczny4i,ecznyi1,ecznzg3,eczo0dk,eczo0or,eczo3cm,eczo3oj,eczo464,eczo5nh,eczo639,eczo6ee,eczo8sq,eczob2o,eczobfy,eczocjj,eczod3s,eczof1f,eczofrf,eczoh8s,eczohaf,eczoifb,eczojev,eczojig,eczojpw,eczojtd,eczok3k,eczok6n,eczomb8,eczonkh,eczopce,eczopvd,eczoq6i,eczoq87,eczor8a,eczor9v,eczos7u,eczotal,eczou7k,eczour7,eczovl8,eczowaa,eczoxgz,eczoy3n,eczoz85,eczozix,eczp06e,eczp0m3,eczp0r6,eczp1f8,eczp2pg,eczp2vh,eczp49g,eczp4eu,eczp4r9,eczp4t1,eczp4u5,eczp4vd,eczp5pp,eczp791,eczp7o1,eczp80l,eczp8fn,eczp8tc,eczp9tz,eczpan3,eczpaoe,eczpavf,eczpb4r,eczpbxn,eczpc7p,eczpdjr,eczpe92,eczpe9v,eczpeo4,eczpf3e,eczpfpm,eczpg9c,eczpgdf,eczph8i\n"
     ]
    },
    {
     "name": "stderr",
     "output_type": "stream",
     "text": [
      "\r",
      " 12%|█████▎                                      | 5/41 [00:08<01:01,  1.70s/it]"
     ]
    },
    {
     "name": "stdout",
     "output_type": "stream",
     "text": [
      "https://api.pushshift.io/reddit/comment/search?ids=eczph9m,eczpiyc,eczpjl7,eczpmuq,eczpna8,eczpobg,eczpojb,eczpp46,eczppk4,eczppyb,eczpqn6,eczprl6,eczprz9,eczpu9v,eczpumy,eczpvrc,eczpw7p,eczpw9r,eczpwh3,eczpxbp,eczpy8j,eczpzjd,eczq0em,eczq1r9,eczq1x1,eczq2ei,eczq2jf,eczq3ll,eczq409,eczq58e,eczq5we,eczq6g0,eczq6o3,eczq74i,eczq7n4,eczq7un,eczq8p0,eczq9t3,eczqajw,eczqan6,eczqbmz,eczqbvy,eczqd8h,eczqdbk,eczqdok,eczqelp,eczqexq,eczqf3b,eczqfpp,eczqfqi,eczqfte,eczqfvf,eczqh5k,eczqh9n,eczqi3t,eczqiqz,eczqj3b,eczqj3t,eczqjav,eczqjub,eczqlr9,eczqm1u,eczqm57,eczqmjo,eczqn51,eczqnd1,eczqnzn,eczqoai,eczqoci,eczqogh,eczqpad,eczqpoq,eczqptl,eczqrw9,eczqs0e,eczqspq,eczqspz,eczqtld,eczqtqp,eczqu37,eczqu69,eczqulg,eczqut8,eczqutz,eczqvns,eczqwiu,eczqwm3,eczqwn3,eczqwns,eczqwqr,eczqwup,eczqwx8,eczqwzr,eczqxm7,eczqy25,eczqy4h,eczqza4,eczqzpw,eczqzvf,eczr0ac\n"
     ]
    },
    {
     "name": "stderr",
     "output_type": "stream",
     "text": [
      "\r",
      " 15%|██████▍                                     | 6/41 [00:10<00:58,  1.67s/it]"
     ]
    },
    {
     "name": "stdout",
     "output_type": "stream",
     "text": [
      "https://api.pushshift.io/reddit/comment/search?ids=eczr0vj,eczr0zl,eczr13m,eczr17b,eczr2ie,eczr2qv,eczr33p,eczr3ac,eczr3t2,eczr4zp,eczr578,eczr587,eczr643,eczr67z,eczr6ln,eczr7bp,eczr7zt,eczr8cl,eczr8lv,eczrau4,eczrb2o,eczrbzd,eczrdj4,eczrdsm,eczrdx4,eczrej4,eczrevh,eczrf48,eczrf7o,eczrffk,eczrfmz,eczrg8n,eczrgft,eczrh6v,eczrhcw,eczrhxp,eczribr,eczriec,eczrizn,eczrk9k,eczrkto,eczrl04,eczrlax,eczrlha,eczrltn,eczrmdk,eczrmmj,eczrmys,eczrns0,eczrobr,eczrov8,eczrowi,eczrp6c,eczrpl4,eczrq4t,eczrqi3,eczrqp1,eczrqtv,eczrqtx,eczrqug,eczrr0s,eczrrsz,eczrsgs,eczrsyb,eczrt6y,eczrtoq,eczrudw,eczrulm,eczruth,eczruwn,eczrv4o,eczrw4o,eczrxu8,eczrxym,eczry8t,eczrz6y,eczrz9w,eczrza4,eczrzuc,eczs02o,eczs04d,eczs0of,eczs0wp,eczs1ea,eczs1hm,eczs1jc,eczs1pg,eczs20q,eczs3z3,eczs4fr,eczs5jn,eczs6sn,eczs7xv,eczs8ah,eczs8vc,eczs9c8,eczsa03,eczsa4g,eczsb5p,eczsbo9\n"
     ]
    },
    {
     "name": "stderr",
     "output_type": "stream",
     "text": [
      "\r",
      " 17%|███████▌                                    | 7/41 [00:11<00:54,  1.61s/it]"
     ]
    },
    {
     "name": "stdout",
     "output_type": "stream",
     "text": [
      "https://api.pushshift.io/reddit/comment/search?ids=eczsdev,eczsdxz,eczse41,eczseiu,eczsfmf,eczsfmz,eczsh0h,eczsh2p,eczshoc,eczshpb,eczsj4n,eczsjb1,eczsjmu,eczsjmv,eczsjp7,eczsl2r,eczsl39,eczslbx,eczsm5h,eczsmo7,eczsnhb,eczsnkp,eczsohu,eczsojv,eczsoon,eczsoyd,eczsp8h,eczspvo,eczspvq,eczsqf1,eczsqo1,eczsr0k,eczsr4m,eczsr4r,eczsrc6,eczsrjz,eczsrqg,eczsrqu,eczssao,eczssb0,eczssjr,eczssqb,eczssto,eczstrg,eczsu8o,eczsuiw,eczsvg6,eczsvlz,eczsvts,eczswfy,eczswmw,eczswpf,eczswua,eczsxar,eczsxm1,eczsxrs,eczsy6m,eczsyn9,eczsysj,eczsyt7,eczsyz5,eczszcu,eczszxe,eczt02v,eczt0ol,eczt0vj,eczt10q,eczt1d9,eczt23d,eczt29j,eczt2hf,eczt3a0,eczt3g0,eczt3qp,eczt3t2,eczt3x9,eczt4gb,eczt4qh,eczt5jo,eczt5my,eczt626,eczt6rd,eczt733,eczt78o,eczt7qz,eczt8jy,eczt8n9,eczt8ud,eczt8z1,eczt91s,eczt9as,eczt9kd,eczt9s5,eczt9uq,ecztajt,ecztawj,ecztaza,ecztb0f,ecztbe3,ecztc92\n"
     ]
    },
    {
     "name": "stderr",
     "output_type": "stream",
     "text": [
      "\r",
      " 20%|████████▌                                   | 8/41 [00:13<00:51,  1.57s/it]"
     ]
    },
    {
     "name": "stdout",
     "output_type": "stream",
     "text": [
      "https://api.pushshift.io/reddit/comment/search?ids=ecztccw,ecztchj,ecztcuf,ecztd1h,ecztdcu,ecztdyo,eczte3s,ecztez3,ecztf80,ecztfbq,ecztfl9,ecztflt,ecztg6h,eczth5j,eczthu0,eczthuh,eczthvr,eczthyh,eczti4v,ecztig9,ecztiks,ecztiln,ecztjwz,ecztk1d,ecztkai,ecztkb0,ecztkfk,ecztkpm,ecztlzn,ecztmzk,ecztn2j,ecztnu0,ecztnyp,ecztp8w,ecztq82,ecztr8j,ecztr9z,ecztsnw,eczttik,eczttoc,eczttxx,ecztubx,ecztvic,ecztvr3,ecztvwc,ecztwp1,ecztxbt,ecztxja,ecztxji,ecztxoe,ecztxts,eczty3q,eczty8c,ecztycr,ecztyfe,ecztyom,ecztz4o,ecztzfj,eczu00e,eczu03i,eczu03l,eczu2j6,eczu2p7,eczu2wl,eczu3ia,eczu4db,eczu4gs,eczu4i8,eczu4vh,eczu534,eczu6fd,eczu6r6,eczu7zz,eczu8c0,eczu8c8,eczu9np,eczu9o3,eczu9uy,eczua2y,eczuaeu,eczub0c,eczubhq,eczubsz,eczubtn,eczubub,eczucci,eczucju,eczuck4,eczuctw,eczud4u,eczudep,eczudw4,eczuepk,eczuf40,eczuf6d,eczufei,eczug2i,eczug6p,eczugg7,eczugm6\n"
     ]
    },
    {
     "name": "stderr",
     "output_type": "stream",
     "text": [
      "\r",
      " 22%|█████████▋                                  | 9/41 [00:14<00:51,  1.60s/it]"
     ]
    },
    {
     "name": "stdout",
     "output_type": "stream",
     "text": [
      "https://api.pushshift.io/reddit/comment/search?ids=eczugmr,eczugp3,eczugyr,eczuh7x,eczuhq5,eczuhvo,eczuhzm,eczui9f,eczuiah,eczuida,eczuj7l,eczujbm,eczuk3j,eczukf9,eczula1,eczum3o,eczum91,eczum9t,eczuml5,eczumo6,eczun47,eczunh4,eczunq2,eczunzs,eczuo63,eczuo8a,eczuokb,eczuoo2,eczuopd,eczuosg,eczuowh,eczuowr,eczupn6,eczupoa,eczuq2j,eczuq99,eczuqa8,eczuqkm,eczuqp4,eczuqyw,eczurde,eczurgg,eczuria,eczuryg,eczus0h,eczusfo,eczush6,eczuskb,eczussw,eczusuw,eczut1p,eczut2i,eczut56,eczutaq,eczuti6,eczutin,eczutkf,eczuu7e,eczuubg,eczuus9,eczuvrp,eczuvsd,eczuw1y,eczux0y,eczux20,eczux3y,eczux96,eczuxey,eczuxlm,eczuxmu,eczuxof,eczuxyn,eczuytc,eczuyuw,eczv005,eczv08f,eczv17j,eczv182,eczv1il,eczv1yw,eczv2gy,eczv2ot,eczv2q7,eczv2z9,eczv2zw,eczv36s,eczv3l8,eczv4wv,eczv568,eczv5et,eczv5ey,eczv5jm,eczv5t5,eczv601,eczv63c,eczv6ec,eczv6l7,eczv6lu,eczv79x,eczv806\n"
     ]
    },
    {
     "name": "stderr",
     "output_type": "stream",
     "text": [
      "\r",
      " 24%|██████████▍                                | 10/41 [00:16<00:48,  1.57s/it]"
     ]
    },
    {
     "name": "stdout",
     "output_type": "stream",
     "text": [
      "https://api.pushshift.io/reddit/comment/search?ids=eczv819,eczv84j,eczv8gv,eczv8wj,eczv94b,eczv9hg,eczv9ow,eczv9rz,eczv9vv,eczva78,eczvaa0,eczvamt,eczvb3r,eczvb92,eczvbfk,eczvc4r,eczvc9w,eczvcf4,eczvco7,eczvcp4,eczvd13,eczvdvi,eczve6p,eczvee0,eczvf26,eczvfy9,eczvgbq,eczvglk,eczvhbi,eczvhbm,eczvhjv,eczvhp0,eczvhrr,eczvi4n,eczvia5,eczviqn,eczvix4,eczvj38,eczvj3n,eczvjfg,eczvk5r,eczvki4,eczvkyy,eczvlm9,eczvluj,eczvlv2,eczvmgh,eczvmkl,eczvn30,eczvnor,eczvnpo,eczvnqw,eczvo3e,eczvo5e,eczvomu,eczvoup,eczvowk,eczvpsz,eczvq1a,eczvqhm,eczvqwe,eczvrcj,eczvrv6,eczvs03,eczvsbl,eczvskt,eczvsn6,eczvsrx,eczvsxo,eczvtaa,eczvtam,eczvtdk,eczvtog,eczvtq0,eczvtt9,eczvv88,eczvvhx,eczvvko,eczvvol,eczvvu4,eczvwm7,eczvxd5,eczvxu6,eczvxuo,eczvy6m,eczvz3y,eczvzo9,eczw01h,eczw04f,eczw0jv,eczw0vt,eczw15w,eczw1n8,eczw2nl,eczw2oa,eczw2r5,eczw4bh,eczw4fc,eczw4kg,eczw4r2\n"
     ]
    },
    {
     "name": "stderr",
     "output_type": "stream",
     "text": [
      "\r",
      " 27%|███████████▌                               | 11/41 [00:17<00:44,  1.48s/it]"
     ]
    },
    {
     "name": "stdout",
     "output_type": "stream",
     "text": [
      "https://api.pushshift.io/reddit/comment/search?ids=eczw4uq,eczw54s,eczw5hh,eczw6ee,eczw6n9,eczw700,eczw73p,eczw7g2,eczw87o,eczw8jc,eczw8og,eczw97w,eczw989,eczw9f2,eczw9u2,eczw9yn,eczwa8k,eczwaby,eczwaxa,eczwbnn,eczwbz3,eczwbzu,eczwc6h,eczwc8x,eczwd2y,eczwd3z,eczwe46,eczwfbn,eczwfjo,eczwg01,eczwg4f,eczwgbv,eczwgej,eczwgr4,eczwgsc,eczwigo,eczwiq8,eczwit5,eczwj8d,eczwjm3,eczwjmp,eczwjms,eczwkb4,eczwkex,eczwkj2,eczwknd,eczwkv2,eczwl2f,eczwl83,eczwl8y,eczwls6,eczwm9m,eczwmaz,eczwmhm,eczwmj3,eczwmp9,eczwn5m,eczwnm3,eczwo96,eczwoba,eczwqjo,eczwr0e,eczwrlt,eczws8w,eczwst9,eczwubf,eczwuhv,eczwuwg,eczwvjp,eczwvym,eczwwpv,eczwxcy,eczwxde,eczwxk9,eczwxuh,eczwyf7,eczwytt,eczwyxx,eczwzcd,eczx0l4,eczx0oj,eczx0z5,eczx161,eczx204,eczx23q,eczx2sg,eczx2xh,eczx32i,eczx3bb,eczx3mn,eczx49p,eczx5ie,eczx64q,eczx6gm,eczx732,eczx7ej,eczx7g2,eczx7hu,eczx7n6,eczx7pb\n"
     ]
    },
    {
     "name": "stderr",
     "output_type": "stream",
     "text": [
      "\r",
      " 29%|████████████▌                              | 12/41 [00:19<00:43,  1.50s/it]"
     ]
    },
    {
     "name": "stdout",
     "output_type": "stream",
     "text": [
      "https://api.pushshift.io/reddit/comment/search?ids=eczx8mf,eczx8td,eczxa69,eczxbya,eczxc3q,eczxc5d,eczxcbw,eczxcdy,eczxcq0,eczxcvq,eczxdkr,eczxdxr,eczxeer,eczxeto,eczxftt,eczxfxt,eczxg3i,eczxgjm,eczxgog,eczxgq2,eczxgt7,eczxhew,eczxhti,eczxhtn,eczxi69,eczxih4,eczxiwi,eczxj24,eczxjlg,eczxjqe,eczxjqp,eczxjwj,eczxm69,eczxm9g,eczxmjm,eczxmjp,eczxmtl,eczxmu7,eczxn16,eczxn51,eczxn9g,eczxnkz,eczxnlq,eczxnuf,eczxnve,eczxo6q,eczxpkb,eczxpob,eczxqiv,eczxrcn,eczxrey,eczxrnu,eczxro7,eczxroy,eczxrva,eczxsg0,eczxsl3,eczxt0e,eczxu5b,eczxu7j,eczxv8x,eczxvb1,eczxvr1,eczxvyj,eczxw6l,eczxw7r,eczxwg1,eczxxbg,eczxxkz,eczxxrq,eczxxwu,eczxy3x,eczxy5v,eczxyul,eczy0e4,eczy0n3,eczy0qd,eczy128,eczy19f,eczy2ay,eczy2g1,eczy2kn,eczy37g,eczy39m,eczy3lb,eczy3n7,eczy3qr,eczy4hc,eczy4qn,eczy4su,eczy57t,eczy5sq,eczy5su,eczy65r,eczy6fr,eczy6qc,eczy6y0,eczy712,eczy7gw,eczy7kl\n"
     ]
    },
    {
     "name": "stderr",
     "output_type": "stream",
     "text": [
      "\r",
      " 32%|█████████████▋                             | 13/41 [00:20<00:41,  1.48s/it]"
     ]
    },
    {
     "name": "stdout",
     "output_type": "stream",
     "text": [
      "https://api.pushshift.io/reddit/comment/search?ids=eczy7ow,eczy7zh,eczy8uz,eczy92n,eczy932,eczy983,eczy9e7,eczyaab,eczyakf,eczyalg,eczyant,eczyb1b,eczyb27,eczybcc,eczybdh,eczyboh,eczycud,eczydpg,eczydu5,eczye4p,eczye6j,eczyex7,eczyg22,eczygkz,eczygq3,eczygs6,eczyh2d,eczyhey,eczyi2x,eczyi7j,eczyi80,eczyiez,eczyj9i,eczyjit,eczyjqa,eczyjro,eczyjrz,eczyk9t,eczykbs,eczykda,eczyki3,eczykru,eczyl6g,eczyl94,eczyl96,eczylhi,eczylmh,eczylry,eczyltw,eczyly8,eczym5l,eczymg4,eczympx,eczyndd,eczyneh,eczynnc,eczyo02,eczyo6p,eczyobb,eczyobm,eczyoiu,eczyoiz,eczyold,eczyos8,eczyp8y,eczypa0,eczypb9,eczyq62,eczyqn5,eczyriw,eczys4v,eczysc6,eczysg2,eczysib,eczysne,eczysr7,eczytgz,eczyto4,eczytug,eczyu5j,eczyu8v,eczyutz,eczyuyt,eczyv7l,eczyvke,eczyvo1,eczyvtj,eczyw3x,eczyw4m,eczyw67,eczywa4,eczywd0,eczywny,eczywof,eczyx1v,eczyxc9,eczyxkz,eczyxok,eczyxzw,eczyylm\n"
     ]
    },
    {
     "name": "stderr",
     "output_type": "stream",
     "text": [
      "\r",
      " 34%|██████████████▋                            | 14/41 [00:22<00:40,  1.51s/it]"
     ]
    },
    {
     "name": "stdout",
     "output_type": "stream",
     "text": [
      "https://api.pushshift.io/reddit/comment/search?ids=eczyzwf,eczz0vu,eczz11r,eczz192,eczz1ym,eczz362,eczz3bo,eczz4hj,eczz5k3,eczz5ll,eczz5sl,eczz6xh,eczz72o,eczz750,eczz7mr,eczz80v,eczz8n5,eczz8nl,eczz8pj,eczz8xi,eczz98q,eczz9lg,eczz9y3,eczza6j,eczzaqf,eczzasy,eczzboh,eczzbxf,eczzck0,eczzcqo,eczzcr9,eczzcrj,eczzcxi,eczze4l,eczzefn,eczzeg9,eczzera,eczzez5,eczzfhb,eczzgmi,eczzh1p,eczzhku,eczzhpq,eczzhx7,eczzhzk,eczzi4o,eczzicb,eczzimj,eczzj4h,eczzj4z,eczzjcu,eczzjdq,eczzjnq,eczzjwd,eczzkn2,eczzknu,eczzla7,eczzlb3,eczzlg7,eczzlhk,eczzlid,eczzlq2,eczzly4,eczzm2m,eczzm2u,eczzm9m,eczzmjc,eczzmne,eczzmsp,eczzmsw,eczzn4j,eczzn72,eczzo04,eczzo42,eczzo7n,eczzocv,eczzohm,eczzpf0,eczzpw7,eczzqpg,eczzrrr,eczzrvk,eczzs1h,eczztch,eczztox,eczztrz,eczzudd,eczzudk,eczzusz,eczzv7c,eczzvgh,eczzvrs,eczzwab,eczzx51,eczzy05,eczzyhl,eczzz1d,eczzzsm,eczzzt3,ed0004u\n"
     ]
    },
    {
     "name": "stderr",
     "output_type": "stream",
     "text": [
      "\r",
      " 37%|███████████████▋                           | 15/41 [00:23<00:37,  1.43s/it]"
     ]
    },
    {
     "name": "stdout",
     "output_type": "stream",
     "text": [
      "https://api.pushshift.io/reddit/comment/search?ids=ed000ja,ed000wm,ed00108,ed001zn,ed002q2,ed002yp,ed0032q,ed0040g,ed0045u,ed004yu,ed005wf,ed006cg,ed006nj,ed007ui,ed007zl,ed0082s,ed0083d,ed008n4,ed008x9,ed00ae6,ed00b5o,ed00b63,ed00bl6,ed00c9v,ed00cm1,ed00cod,ed00dl3,ed00dnp,ed00dtf,ed00du2,ed00dup,ed00dxl,ed00e28,ed00ed7,ed00eid,ed00f6y,ed00fhn,ed00g4m,ed00gvw,ed00iol,ed00iq6,ed00ixp,ed00iyt,ed00j9n,ed00jm1,ed00jov,ed00kim,ed00kq3,ed00kql,ed00kt2,ed00le5,ed00lgr,ed00lwz,ed00lxk,ed00m52,ed00mnr,ed00mpl,ed00nbj,ed00nmb,ed00nqx,ed00oa9,ed00ofu,ed00on0,ed00q7d,ed00qbh,ed00qcu,ed00ql9,ed00qle,ed00rev,ed00rua,ed00s7g,ed00sia,ed00t1b,ed00td2,ed00te2,ed00tqt,ed00ub6,ed00uzm,ed00vac,ed00vew,ed00vh2,ed00w8c,ed00wks,ed00wnu,ed00wp5,ed00wza,ed00xaw,ed00xxb,ed00y07,ed00ym1,ed010lb,ed010v5,ed0111f,ed0115y,ed0116u,ed011ec,ed011hx,ed011r1,ed011xm,ed012o8\n"
     ]
    },
    {
     "name": "stderr",
     "output_type": "stream",
     "text": [
      "\r",
      " 39%|████████████████▊                          | 16/41 [00:24<00:34,  1.40s/it]"
     ]
    },
    {
     "name": "stdout",
     "output_type": "stream",
     "text": [
      "https://api.pushshift.io/reddit/comment/search?ids=ed012ru,ed01362,ed013ga,ed013hk,ed013ir,ed013kw,ed014u4,ed015ri,ed015v5,ed0163u,ed0164q,ed0169h,ed0170n,ed01826,ed0187y,ed018bq,ed018ru,ed018u5,ed0192v,ed0194l,ed019f9,ed019ld,ed019li,ed019nd,ed01a76,ed01ax6,ed01bae,ed01bb1,ed01bhq,ed01bog,ed01byk,ed01ca0,ed01ckn,ed01cl4,ed01cw5,ed01d01,ed01dtu,ed01egt,ed01f14,ed01f66,ed01f99,ed01fzp,ed01g6u,ed01gsr,ed01h7f,ed01h9j,ed01haj,ed01iwo,ed01iyc,ed01jrd,ed01kae,ed01kgh,ed01l9t,ed01lcf,ed01lg8,ed01lug,ed01lza,ed01mm7,ed01n1q,ed01n4t,ed01nz1,ed01omn,ed01ou0,ed01p0m,ed01rf8,ed01tbq,ed01tiz,ed01tuy,ed01w1j,ed01xkb,ed01y9u,ed01yc8,ed01yon,ed0205q,ed020dt,ed020uv,ed0212m,ed021o5,ed021oi,ed022ry,ed024vw,ed024w2,ed0259p,ed025lp,ed02616,ed0267u,ed0268k,ed026lm,ed026py,ed02756,ed0277j,ed02784,ed027eu,ed027qu,ed0281w,ed028a1,ed028kh,ed028lx,ed028mv,ed029j7\n"
     ]
    },
    {
     "name": "stderr",
     "output_type": "stream",
     "text": [
      "\r",
      " 41%|█████████████████▊                         | 17/41 [00:26<00:33,  1.38s/it]"
     ]
    },
    {
     "name": "stdout",
     "output_type": "stream",
     "text": [
      "https://api.pushshift.io/reddit/comment/search?ids=ed029mp,ed029y1,ed02a0v,ed02a27,ed02adb,ed02aey,ed02aps,ed02au7,ed02avr,ed02bgc,ed02bpq,ed02bxa,ed02bzy,ed02c16,ed02c3w,ed02cb1,ed02cf6,ed02ctq,ed02d4n,ed02dam,ed02e29,ed02eg3,ed02err,ed02evt,ed02ezs,ed02f7u,ed02flo,ed02h10,ed02h87,ed02has,ed02hlw,ed02huc,ed02i9u,ed02j3i,ed02j4u,ed02jnn,ed02khp,ed02l7m,ed02lvy,ed02m7b,ed02md7,ed02meq,ed02mgv,ed02moe,ed02ndd,ed02nha,ed02ntz,ed02o6y,ed02org,ed02oxl,ed02p4c,ed02ph5,ed02phq,ed02pml,ed02pq2,ed02pxe,ed02q02,ed02qki,ed02qo5,ed02qsd,ed02qvp,ed02qxa,ed02r6v,ed02rcz,ed02s06,ed02tji,ed02urn,ed02vdv,ed02vg5,ed02vqv,ed02vte,ed02w6t,ed02w8x,ed02wev,ed02wq3,ed02x0v,ed02x2o,ed02x5p,ed02xjt,ed02xv1,ed02y8y,ed02yfa,ed02yoe,ed02z9g,ed02zr9,ed02zsw,ed0300o,ed030ca,ed031sv,ed031zw,ed033au,ed033un,ed033xd,ed033zj,ed034ar,ed034m0,ed034t2,ed035bc,ed035c3,ed035fx\n"
     ]
    },
    {
     "name": "stderr",
     "output_type": "stream",
     "text": [
      "\r",
      " 44%|██████████████████▉                        | 18/41 [00:27<00:32,  1.39s/it]"
     ]
    },
    {
     "name": "stdout",
     "output_type": "stream",
     "text": [
      "https://api.pushshift.io/reddit/comment/search?ids=ed035zt,ed0370v,ed038hb,ed0396e,ed039u8,ed03aqh,ed03atd,ed03b4v,ed03c9w,ed03ce7,ed03dde,ed03deo,ed03dj2,ed03dju,ed03e4z,ed03eeq,ed03ekf,ed03eu0,ed03f0a,ed03fcm,ed03flq,ed03fmu,ed03fnc,ed03fu8,ed03gcm,ed03ged,ed03gkm,ed03h50,ed03ho2,ed03i3i,ed03i5l,ed03ieq,ed03ikg,ed03j06,ed03j6r,ed03jhs,ed03kbf,ed03kc4,ed03kea,ed03l0k,ed03l24,ed03len,ed03lfd,ed03lkj,ed03loa,ed03lq1,ed03lq5,ed03m6b,ed03mh5,ed03n7w,ed03o4x,ed03o63,ed03oh3,ed03oqy,ed03p3g,ed03p46,ed03piw,ed03pqm,ed03pw9,ed03qa1,ed03qg7,ed03qjw,ed03qnf,ed03r2e,ed03r79,ed03rj4,ed03ruo,ed03so2,ed03syx,ed03t8t,ed03tfk,ed03til,ed03ufk,ed03usn,ed03uwe,ed03vce,ed03vqd,ed03vst,ed03w2r,ed03wam,ed03wnc,ed03wuq,ed03wz4,ed03wzb,ed03xa8,ed03xii,ed03xk9,ed03y28,ed03yd0,ed03yq8,ed03zmo,ed0402f,ed040eo,ed040ox,ed040re,ed040y1,ed040ya,ed04137,ed0416d,ed041mu\n"
     ]
    },
    {
     "name": "stderr",
     "output_type": "stream",
     "text": [
      "\r",
      " 46%|███████████████████▉                       | 19/41 [00:29<00:30,  1.41s/it]"
     ]
    },
    {
     "name": "stdout",
     "output_type": "stream",
     "text": [
      "https://api.pushshift.io/reddit/comment/search?ids=ed041sh,ed042bb,ed042ra,ed042uh,ed043c7,ed043eo,ed043ep,ed043kx,ed0443i,ed044sd,ed044xh,ed045ls,ed045mv,ed045u0,ed045yv,ed045ze,ed046v6,ed046vn,ed046w3,ed046zo,ed047le,ed047mj,ed047mk,ed047qo,ed048af,ed048df,ed048ev,ed048ls,ed048r0,ed049bb,ed049w9,ed049zd,ed04a1b,ed04aga,ed04amj,ed04anx,ed04aov,ed04azy,ed04b9j,ed04bgg,ed04dr5,ed04duv,ed04dyj,ed04dzh,ed04em0,ed04eq6,ed04f92,ed04gmk,ed04h0i,ed04h8b,ed04hdp,ed04hkw,ed04hqm,ed04hs0,ed04hwf,ed04hx9,ed04i94,ed04ihg,ed04iof,ed04jdy,ed04jsb,ed04jul,ed04k5b,ed04ks0,ed04l4s,ed04l6j,ed04l7s,ed04lf1,ed04ln1,ed04m6y,ed04mck,ed04mfa,ed04n3q,ed04n5v,ed04nd0,ed04ngu,ed04nr2,ed04o1z,ed04o75,ed04oez,ed04oui,ed04oxg,ed04ozc,ed04p64,ed04p9f,ed04ppu,ed04q44,ed04q6i,ed04q8z,ed04qmr,ed04qz3,ed04rik,ed04rlz,ed04se6,ed04sef,ed04sv9,ed04t2k,ed04t37,ed04t3l,ed04tap\n"
     ]
    },
    {
     "name": "stderr",
     "output_type": "stream",
     "text": [
      "\r",
      " 49%|████████████████████▉                      | 20/41 [00:30<00:31,  1.48s/it]"
     ]
    },
    {
     "name": "stdout",
     "output_type": "stream",
     "text": [
      "https://api.pushshift.io/reddit/comment/search?ids=ed04tc8,ed04tfb,ed04tvp,ed04u36,ed04uf9,ed04vdp,ed04ven,ed04vnl,ed04vp2,ed04vs8,ed04wkn,ed04x30,ed04x5f,ed04xek,ed04xjl,ed04xs2,ed04yom,ed04yqz,ed04yrs,ed04ywo,ed04yya,ed04z65,ed04zef,ed04zlo,ed04zo2,ed0500d,ed05035,ed0503u,ed050bs,ed050ig,ed050xy,ed051oq,ed051z1,ed0520c,ed0520l,ed0529y,ed052cp,ed052eg,ed052pj,ed052u3,ed05326,ed0532f,ed053j0,ed053z7,ed0541t,ed05423,ed0548x,ed054hh,ed054om,ed0553d,ed055bg,ed055jy,ed055s5,ed0565u,ed056cu,ed056jp,ed056md,ed056nw,ed056y0,ed057sh,ed057wo,ed0584t,ed058c8,ed058kf,ed058mt,ed058to,ed0597h,ed059nz,ed059rf,ed05a4e,ed05a89,ed05aiq,ed05ak4,ed05aog,ed05bgd,ed05c3u,ed05ckm,ed05cn1,ed05dtu,ed05e6i,ed05edh,ed05ef4,ed05eql,ed05f6x,ed05fog,ed05ftg,ed05fxd,ed05g24,ed05g66,ed05g89,ed05gq5,ed05gtp,ed05h32,ed05hyw,ed05itn,ed05kn0,ed05lb0,ed05ldy,ed05lwq,ed05m11\n"
     ]
    },
    {
     "name": "stderr",
     "output_type": "stream",
     "text": [
      "\r",
      " 51%|██████████████████████                     | 21/41 [00:32<00:29,  1.46s/it]"
     ]
    },
    {
     "name": "stdout",
     "output_type": "stream",
     "text": [
      "https://api.pushshift.io/reddit/comment/search?ids=ed05mqe,ed05n59,ed05nga,ed05nli,ed05o5j,ed05oac,ed05ohw,ed05p09,ed05p8k,ed05psk,ed05px2,ed05q4p,ed05q70,ed05q7r,ed05qpl,ed05r6l,ed05rdb,ed05rio,ed05rsr,ed05s0n,ed05s5c,ed05s9z,ed05szr,ed05t5m,ed05tj0,ed05tk1,ed05trt,ed05tu0,ed05u3f,ed05u8d,ed05uav,ed05uio,ed05uve,ed05v75,ed05v7a,ed05vmo,ed05vu2,ed05vzy,ed05w2y,ed05wfq,ed05wr5,ed05x6e,ed05xvt,ed05yjq,ed05z8l,ed05zll,ed05zng,ed060yg,ed0613o,ed06148,ed061e0,ed06226,ed06256,ed062ce,ed062fv,ed062mh,ed062p1,ed06333,ed064bh,ed064f1,ed064mc,ed064x2,ed0659q,ed065db,ed065ka,ed065n6,ed065ol,ed065uk,ed0662u,ed066f8,ed066r9,ed066uy,ed06702,ed067g4,ed067hv,ed0685y,ed068u7,ed069kt,ed069n8,ed069od,ed069th,ed06a1n,ed06a78,ed06aoj,ed06bbt,ed06bgg,ed06bjx,ed06bly,ed06dbo,ed06dj7,ed06dmg,ed06dse,ed06dxy,ed06e4k,ed06ea2,ed06eh1,ed06fc0,ed06fhk,ed06g7v,ed06gms\n"
     ]
    },
    {
     "name": "stderr",
     "output_type": "stream",
     "text": [
      "\r",
      " 54%|███████████████████████                    | 22/41 [00:33<00:27,  1.44s/it]"
     ]
    },
    {
     "name": "stdout",
     "output_type": "stream",
     "text": [
      "https://api.pushshift.io/reddit/comment/search?ids=ed06gqx,ed06h1f,ed06h1q,ed06ihr,ed06irc,ed06irv,ed06jfk,ed06jwo,ed06kb2,ed06knv,ed06l0g,ed06l5z,ed06l69,ed06m2w,ed06m63,ed06mbj,ed06mdw,ed06mmf,ed06mtd,ed06mzw,ed06nmk,ed06nru,ed06nyb,ed06odk,ed06ogh,ed06pg0,ed06phf,ed06pof,ed06psu,ed06q2z,ed06qch,ed06qqo,ed06rai,ed06rn2,ed06rwh,ed06s8a,ed06s98,ed06sjz,ed06tsp,ed06tvx,ed06u81,ed06uhp,ed06v2x,ed06v35,ed06vhc,ed06x0b,ed06x7k,ed06xcn,ed06xfa,ed06ynp,ed06zag,ed06zsi,ed07022,ed0704o,ed07067,ed0708z,ed070lx,ed070z1,ed07144,ed071fy,ed071ym,ed072qv,ed072rq,ed073fs,ed07470,ed07476,ed074jp,ed074vc,ed075hr,ed0767c,ed07731,ed0776k,ed077t4,ed0788p,ed078ea,ed078gw,ed078nk,ed079bs,ed079t9,ed079va,ed079zk,ed07a5b,ed07anf,ed07b0h,ed07b54,ed07blx,ed07cha,ed07d04,ed07d4g,ed07dgg,ed07dsr,ed07dw5,ed07e1u,ed07e54,ed07eh8,ed07fl1,ed07gcm,ed07ggs,ed07gqr,ed07hza\n"
     ]
    },
    {
     "name": "stderr",
     "output_type": "stream",
     "text": [
      "\r",
      " 56%|████████████████████████                   | 23/41 [00:35<00:26,  1.48s/it]"
     ]
    },
    {
     "name": "stdout",
     "output_type": "stream",
     "text": [
      "https://api.pushshift.io/reddit/comment/search?ids=ed07i3n,ed07i5a,ed07j02,ed07j5n,ed07jbu,ed07k5p,ed07kjm,ed07l5i,ed07l6d,ed07lgu,ed07lie,ed07lnr,ed07mm3,ed07odq,ed07ogx,ed07p72,ed07pag,ed07pjx,ed07prf,ed07pxc,ed07rrn,ed07rwy,ed07s5g,ed07t3p,ed07tbw,ed07txf,ed07uw2,ed07vb8,ed07w3z,ed07w7d,ed07wcv,ed07x6p,ed07y0v,ed07y6a,ed07yly,ed07z0d,ed07z7w,ed07zb0,ed07zo7,ed07ztd,ed07zwr,ed080a2,ed080ah,ed080be,ed080kf,ed0816q,ed081iz,ed081lz,ed081wp,ed0825f,ed082y0,ed082y2,ed083cr,ed083ob,ed084gu,ed084mu,ed084sk,ed0857e,ed085e5,ed0868b,ed086du,ed086te,ed087c3,ed087gx,ed087jj,ed0884j,ed088aa,ed0891e,ed0892r,ed0896p,ed089b7,ed08a8c,ed08avl,ed08axu,ed08bd9,ed08bhi,ed08bln,ed08c87,ed08c8y,ed08d1k,ed08d36,ed08d77,ed08dox,ed08dv9,ed08e6x,ed08f10,ed08f6s,ed08g58,ed08hee,ed08hvr,ed08hyu,ed08j02,ed08jcz,ed08ju1,ed08k35,ed08kba,ed08knj,ed08kw4,ed08le2,ed08lnq\n"
     ]
    },
    {
     "name": "stderr",
     "output_type": "stream",
     "text": [
      "\r",
      " 59%|█████████████████████████▏                 | 24/41 [00:36<00:25,  1.51s/it]"
     ]
    },
    {
     "name": "stdout",
     "output_type": "stream",
     "text": [
      "https://api.pushshift.io/reddit/comment/search?ids=ed08lt8,ed08mms,ed08mnj,ed08nl2,ed08o2g,ed08ofi,ed08owp,ed08p2o,ed08p40,ed08pjx,ed08qfc,ed08qss,ed08rq7,ed08rz4,ed08s6m,ed08ser,ed08sg6,ed08sua,ed08u3r,ed08v68,ed08vll,ed08wg0,ed08wh8,ed08whg,ed08wyq,ed08xt9,ed08y1s,ed08yix,ed08z6i,ed08zcp,ed08zu3,ed08zv1,ed08zw9,ed090nm,ed090wc,ed0912q,ed0926r,ed0928f,ed092e9,ed092ee,ed094cs,ed095fr,ed095mr,ed095ph,ed095w8,ed095wr,ed095zm,ed096fn,ed098po,ed099j9,ed099tn,ed09a8x,ed09aow,ed09be1,ed09bgm,ed09bm0,ed09bth,ed09c5p,ed09cp1,ed09czw,ed09d2m,ed09dbh,ed09e6o,ed09eds,ed09ehp,ed09eva,ed09fyh,ed09ggp,ed09gyq,ed09h8a,ed09hdv,ed09hpt,ed09htf,ed09if2,ed09in4,ed09j6u,ed09k25,ed09k8u,ed09kaq,ed09kd9,ed09m02,ed09m3l,ed09m4g,ed09moc,ed09n1j,ed09n8q,ed09nap,ed09nd6,ed09nki,ed09not,ed09o0h,ed09o1r,ed09o59,ed09ob7,ed09pct,ed09pfu,ed09pgc,ed09pmq,ed09pqt,ed09pwb\n"
     ]
    },
    {
     "name": "stderr",
     "output_type": "stream",
     "text": [
      "\r",
      " 61%|██████████████████████████▏                | 25/41 [00:37<00:23,  1.45s/it]"
     ]
    },
    {
     "name": "stdout",
     "output_type": "stream",
     "text": [
      "https://api.pushshift.io/reddit/comment/search?ids=ed09pyb,ed09qqx,ed09r14,ed09s0n,ed09sgi,ed09skn,ed09tsc,ed09tv1,ed09u24,ed09unb,ed09uro,ed09ut0,ed09vmf,ed09w6s,ed09wcw,ed09wkd,ed09wli,ed09x99,ed09ydu,ed09yx2,ed09z3q,ed09z4i,ed0a00n,ed0a01s,ed0a082,ed0a0g8,ed0a0gn,ed0a0p2,ed0a3t2,ed0a3zj,ed0a42w,ed0a4to,ed0a56z,ed0a67r,ed0a67v,ed0a6ml,ed0a6r4,ed0a74s,ed0a74w,ed0a7b1,ed0a8ec,ed0a8j7,ed0a9gs,ed0a9l6,ed0a9ob,ed0aa0p,ed0aafp,ed0aag1,ed0aann,ed0ab59,ed0abyh,ed0ac87,ed0acfn,ed0ad58,ed0aeto,ed0af1c,ed0afss,ed0afzm,ed0agf5,ed0ah1g,ed0ahab,ed0ai4z,ed0aijn,ed0aj3p,ed0ajac,ed0ajbo,ed0ajl3,ed0ajth,ed0akha,ed0akke,ed0al4z,ed0ali7,ed0alvl,ed0amgq,ed0anwv,ed0anyt,ed0apbf,ed0apbk,ed0apoi,ed0aprc,ed0aq5z,ed0aqk5,ed0arct,ed0art7,ed0arz6,ed0as7s,ed0asje,ed0asuj,ed0aswt,ed0asyj,ed0at0e,ed0atgf,ed0aud2,ed0aupe,ed0aut3,ed0av0s,ed0av51,ed0av8a,ed0av8f,ed0avkv\n"
     ]
    },
    {
     "name": "stderr",
     "output_type": "stream",
     "text": [
      "\r",
      " 63%|███████████████████████████▎               | 26/41 [00:39<00:21,  1.41s/it]"
     ]
    },
    {
     "name": "stdout",
     "output_type": "stream",
     "text": [
      "https://api.pushshift.io/reddit/comment/search?ids=ed0avma,ed0awgh,ed0awuk,ed0awwx,ed0awxu,ed0ax12,ed0axeo,ed0axmy,ed0axz6,ed0az3a,ed0azmt,ed0b022,ed0b0rb,ed0b165,ed0b1a8,ed0b1ls,ed0b297,ed0b2g2,ed0b2g6,ed0b2nc,ed0b2ox,ed0b2ta,ed0b332,ed0b3mm,ed0b3s7,ed0b52x,ed0b57b,ed0b5dl,ed0b5pg,ed0b5v8,ed0b5y5,ed0b5zl,ed0b6d9,ed0b6xu,ed0b74j,ed0b754,ed0b7cd,ed0b7k2,ed0b7vu,ed0b8ev,ed0b8k0,ed0b8vk,ed0b8yf,ed0b8zm,ed0b90q,ed0b9ar,ed0baaz,ed0bapy,ed0bb2y,ed0bbb0,ed0bbm3,ed0bbwa,ed0bcre,ed0bct7,ed0bcvr,ed0bd39,ed0bdre,ed0be56,ed0bea9,ed0beeh,ed0bekx,ed0betz,ed0bfiy,ed0bfus,ed0bfvy,ed0bfwf,ed0bgmk,ed0bgqw,ed0bhtz,ed0bi4f,ed0bief,ed0bijt,ed0bikc,ed0bism,ed0bj7z,ed0bj8i,ed0bjg1,ed0bjpo,ed0bk1x,ed0bk2q,ed0bkfg,ed0bl82,ed0bld7,ed0bls7,ed0blw0,ed0bma4,ed0bmvd,ed0bn6f,ed0bnr0,ed0bohf,ed0boio,ed0bopg,ed0bp0e,ed0bp5u,ed0bpdp,ed0bpdq,ed0bpiz,ed0bpr9,ed0bpxe,ed0bqa5\n"
     ]
    },
    {
     "name": "stderr",
     "output_type": "stream",
     "text": [
      "\r",
      " 66%|████████████████████████████▎              | 27/41 [00:40<00:19,  1.39s/it]"
     ]
    },
    {
     "name": "stdout",
     "output_type": "stream",
     "text": [
      "https://api.pushshift.io/reddit/comment/search?ids=ed0bqwz,ed0br2p,ed0br7a,ed0brb9,ed0brcg,ed0bre0,ed0brgs,ed0bry6,ed0bs2p,ed0bs6e,ed0bsgi,ed0bsiy,ed0bssx,ed0bt0d,ed0bta3,ed0bten,ed0btnn,ed0btql,ed0btr6,ed0bu1f,ed0bu87,ed0bvjj,ed0bway,ed0bwhy,ed0bwkh,ed0bwuz,ed0bx0p,ed0bxe3,ed0bxqa,ed0bxs9,ed0bxz7,ed0by2p,ed0by2x,ed0by77,ed0bydx,ed0bzmd,ed0bzv6,ed0c045,ed0c0jx,ed0c0l8,ed0c0zp,ed0c1j2,ed0c1lo,ed0c1rz,ed0c1v1,ed0c24q,ed0c2rj,ed0c2wb,ed0c2x4,ed0c2zh,ed0c36y,ed0c3yp,ed0c445,ed0c48k,ed0c48s,ed0c4oz,ed0c6ja,ed0c6k6,ed0c6kg,ed0c6rl,ed0c6x9,ed0c72e,ed0c741,ed0c7a8,ed0c7et,ed0c7oi,ed0c7qu,ed0c7tj,ed0c83r,ed0c89m,ed0c89q,ed0c8bs,ed0c8jb,ed0c92w,ed0c9kb,ed0c9s0,ed0ca6s,ed0cadl,ed0caic,ed0caog,ed0cazw,ed0cb5j,ed0cb96,ed0cbgx,ed0cbk6,ed0cbnd,ed0cbq9,ed0cbxw,ed0cc0y,ed0ccdb,ed0ccwy,ed0cd1e,ed0cdjn,ed0cdqt,ed0cdrj,ed0cdvu,ed0cdx8,ed0cdzj,ed0ce7w,ed0ceam\n"
     ]
    },
    {
     "name": "stderr",
     "output_type": "stream",
     "text": [
      "\r",
      " 68%|█████████████████████████████▎             | 28/41 [00:42<00:18,  1.40s/it]"
     ]
    },
    {
     "name": "stdout",
     "output_type": "stream",
     "text": [
      "https://api.pushshift.io/reddit/comment/search?ids=ed0cecs,ed0cema,ed0cerf,ed0cfes,ed0cgdb,ed0cgmj,ed0cgnf,ed0cgq0,ed0ch7w,ed0chp4,ed0chte,ed0ci0k,ed0ci5r,ed0ci6r,ed0ci7f,ed0cigx,ed0ciz3,ed0ciz9,ed0cj6p,ed0cjho,ed0cjzx,ed0ck7n,ed0ckf0,ed0ckuf,ed0ckwc,ed0cl5s,ed0clj8,ed0clso,ed0cm76,ed0cn8k,ed0cn9m,ed0cnva,ed0cnx5,ed0coat,ed0cobh,ed0cocf,ed0cp9q,ed0cq2k,ed0cqsw,ed0crap,ed0crp9,ed0crvb,ed0csbj,ed0csl3,ed0cslz,ed0csm2,ed0csoa,ed0cspx,ed0cssc,ed0cstd,ed0ct99,ed0cto4,ed0ctrn,ed0cu4g,ed0cuc6,ed0cuno,ed0cv93,ed0cvrj,ed0cwbz,ed0cxqd,ed0cxug,ed0cy0x,ed0cy1x,ed0cypb,ed0cz87,ed0cz8h,ed0czgm,ed0czlg,ed0d0bt,ed0d0cz,ed0d0u3,ed0d10u,ed0d2i6,ed0d35r,ed0d392,ed0d3bt,ed0d3pv,ed0d45v,ed0d4kw,ed0d4n3,ed0d54r,ed0d5jm,ed0d6py,ed0d710,ed0d719,ed0d73h,ed0d7ld,ed0d7y6,ed0d85q,ed0d8ki,ed0d8xc,ed0d92b,ed0d93j,ed0d9du,ed0d9xb,ed0dasc,ed0dat5,ed0db8g,ed0dbcb,ed0dboh\n"
     ]
    },
    {
     "name": "stderr",
     "output_type": "stream",
     "text": [
      "\r",
      " 71%|██████████████████████████████▍            | 29/41 [00:43<00:16,  1.38s/it]"
     ]
    },
    {
     "name": "stdout",
     "output_type": "stream",
     "text": [
      "https://api.pushshift.io/reddit/comment/search?ids=ed0dbou,ed0dc1b,ed0dc1m,ed0dchc,ed0dcr7,ed0dcyo,ed0dd01,ed0ddfo,ed0ddmr,ed0ddzz,ed0de4o,ed0dekq,ed0dfbk,ed0dfe9,ed0dffw,ed0dfw5,ed0dg4f,ed0dg4h,ed0dg5e,ed0dgdx,ed0dggg,ed0dgpx,ed0dh5l,ed0dh6l,ed0dhjq,ed0dhpw,ed0dhun,ed0di0o,ed0di1t,ed0di2p,ed0dibt,ed0dijl,ed0dilo,ed0divt,ed0dja3,ed0djg6,ed0djpo,ed0dkjk,ed0dkw0,ed0dlcc,ed0dlpx,ed0dltw,ed0dmep,ed0dmi8,ed0dmya,ed0dnc6,ed0dngd,ed0dnh3,ed0dnlk,ed0doaq,ed0doar,ed0doo6,ed0dpa7,ed0dpmc,ed0dpzm,ed0dq95,ed0dqg3,ed0dqrg,ed0dqv0,ed0dri8,ed0drj1,ed0drk5,ed0drxs,ed0dsdo,ed0dsv3,ed0dt2n,ed0dt3g,ed0dt9k,ed0dtst,ed0dtw7,ed0du6y,ed0dv4j,ed0dvxg,ed0dvz5,ed0dw58,ed0dwek,ed0dwhe,ed0dwld,ed0dx50,ed0dx9a,ed0dxfd,ed0dxl9,ed0dxws,ed0dy22,ed0dy2c,ed0dy46,ed0dybw,ed0dyjd,ed0dyjy,ed0dynu,ed0dyo7,ed0dytm,ed0dyvk,ed0dyyc,ed0dz12,ed0dz8t,ed0dzbp,ed0dzf3,ed0dzl9,ed0dzm2\n"
     ]
    },
    {
     "name": "stderr",
     "output_type": "stream",
     "text": [
      "\r",
      " 73%|███████████████████████████████▍           | 30/41 [00:44<00:15,  1.40s/it]"
     ]
    },
    {
     "name": "stdout",
     "output_type": "stream",
     "text": [
      "https://api.pushshift.io/reddit/comment/search?ids=ed0dzqj,ed0dzs8,ed0dzz8,ed0e009,ed0e0ao,ed0e1k7,ed0e1ku,ed0e1wl,ed0e2dm,ed0e2jc,ed0e2nk,ed0e3hp,ed0e3jy,ed0e3s2,ed0e446,ed0e497,ed0e4bz,ed0e4i3,ed0e4it,ed0e4qz,ed0e4yk,ed0e52g,ed0e5e9,ed0e5qn,ed0e5uv,ed0e5yl,ed0e638,ed0e6pv,ed0e6rn,ed0e6y4,ed0e78m,ed0e7du,ed0e85o,ed0e8qx,ed0e959,ed0e9or,ed0e9rs,ed0e9ta,ed0e9wv,ed0ea5c,ed0ea9o,ed0eadr,ed0eagz,ed0eanw,ed0earm,ed0eavi,ed0eazo,ed0eb3v,ed0ebaa,ed0ebay,ed0ebij,ed0ebis,ed0ebzb,ed0ecce,ed0ecfo,ed0edbm,ed0edgu,ed0edqs,ed0edz4,ed0edzo,ed0eegk,ed0ef1r,ed0ef76,ed0efld,ed0egaf,ed0ehak,ed0ehit,ed0ehkf,ed0ei73,ed0eivk,ed0ej3c,ed0ejfx,ed0ejgf,ed0ejzu,ed0ekla,ed0ekng,ed0el6l,ed0el8i,ed0el9n,ed0elkp,ed0em3c,ed0em9v,ed0emf5,ed0emim,ed0emw7,ed0emwe,ed0enbm,ed0entl,ed0eo19,ed0eo4v,ed0eoo5,ed0eoyp,ed0eq70,ed0eqef,ed0eqf5,ed0eqyx,ed0erqu,ed0es0a,ed0es2i,ed0eu3a\n"
     ]
    },
    {
     "name": "stderr",
     "output_type": "stream",
     "text": [
      "\r",
      " 76%|████████████████████████████████▌          | 31/41 [00:46<00:13,  1.39s/it]"
     ]
    },
    {
     "name": "stdout",
     "output_type": "stream",
     "text": [
      "https://api.pushshift.io/reddit/comment/search?ids=ed0evid,ed0evv3,ed0evva,ed0ew06,ed0ew4c,ed0ew5z,ed0ewod,ed0ex8a,ed0ex8s,ed0ey71,ed0eya5,ed0ez66,ed0f0bx,ed0f171,ed0f1d7,ed0f1dy,ed0f1pz,ed0f1s7,ed0f2p5,ed0f3oa,ed0f4n4,ed0f66s,ed0f6dl,ed0f7e5,ed0f7ul,ed0f88i,ed0f9jc,ed0fa2e,ed0farj,ed0fb3q,ed0fb8p,ed0fbjd,ed0fc72,ed0fcxv,ed0fdka,ed0fdvn,ed0fdzt,ed0fegn,ed0fff2,ed0ffqp,ed0fftf,ed0fg5y,ed0fgfb,ed0fgza,ed0fh6o,ed0fi3u,ed0fi7p,ed0fich,ed0fid2,ed0fivc,ed0fj8v,ed0fjbm,ed0fjdb,ed0fk6c,ed0fk6j,ed0fkim,ed0fkw2,ed0fm2o,ed0fmd7,ed0fmt0,ed0fmw5,ed0fmzc,ed0fnxr,ed0fofp,ed0fogo,ed0foym,ed0fpcp,ed0fpvw,ed0fq2e,ed0fq3n,ed0fqjw,ed0fqpz,ed0fqq3,ed0fqtb,ed0fqy7,ed0fraj,ed0fsgi,ed0ft82,ed0ftf2,ed0ftzh,ed0fud5,ed0fuio,ed0fvfz,ed0fwf5,ed0fwon,ed0fx2l,ed0fxx7,ed0fy2s,ed0fy6h,ed0fy6z,ed0fyc1,ed0fyr7,ed0fz3a,ed0fzs1,ed0fzxq,ed0g09m,ed0g0no,ed0g0zy,ed0g17t,ed0g1jr\n"
     ]
    },
    {
     "name": "stderr",
     "output_type": "stream",
     "text": [
      "\r",
      " 78%|█████████████████████████████████▌         | 32/41 [00:47<00:12,  1.35s/it]"
     ]
    },
    {
     "name": "stdout",
     "output_type": "stream",
     "text": [
      "https://api.pushshift.io/reddit/comment/search?ids=ed0g2ia,ed0g3hu,ed0g3nf,ed0g4wf,ed0g5to,ed0g5ur,ed0g62g,ed0g6kd,ed0g7em,ed0g8m4,ed0g91l,ed0g9mz,ed0g9o4,ed0g9pz,ed0gale,ed0gbhs,ed0gbwk,ed0gcko,ed0gd2d,ed0gdv4,ed0gdzx,ed0gez5,ed0gfxr,ed0gg1i,ed0gg9h,ed0ggkq,ed0ggvg,ed0ghnm,ed0ghz5,ed0gk1g,ed0gkc1,ed0gkfp,ed0gkgo,ed0gkim,ed0gktc,ed0glc1,ed0gm5p,ed0gmow,ed0gn09,ed0gn2h,ed0gn4j,ed0gnl1,ed0gno0,ed0gobc,ed0gocj,ed0gpfx,ed0gpxa,ed0gq1p,ed0gqnv,ed0grsc,ed0gs8g,ed0gtvu,ed0gu0s,ed0gv0t,ed0gvng,ed0gydg,ed0gzb8,ed0gzgl,ed0h0mt,ed0h0r2,ed0h1hk,ed0h1i2,ed0h1u9,ed0h2q0,ed0h2rn,ed0h3oj,ed0h6tm,ed0h772,ed0h7e8,ed0h7ky,ed0h7mu,ed0h81y,ed0h8d0,ed0h8r2,ed0h8wv,ed0h9rr,ed0ha0o,ed0hbat,ed0hbt5,ed0henh,ed0hgzk,ed0hjjt,ed0hjom,ed0hjxw,ed0hl9j,ed0hlve,ed0hmv3,ed0hnba,ed0hos7,ed0hosr,ed0hpky,ed0hpqj,ed0hrx2,ed0hsr2,ed0hsso,ed0hszu,ed0ht6n,ed0htk5,ed0htvc,ed0hucy\n"
     ]
    },
    {
     "name": "stderr",
     "output_type": "stream",
     "text": [
      "\r",
      " 80%|██████████████████████████████████▌        | 33/41 [00:48<00:10,  1.35s/it]"
     ]
    },
    {
     "name": "stdout",
     "output_type": "stream",
     "text": [
      "https://api.pushshift.io/reddit/comment/search?ids=ed0huga,ed0huil,ed0huqr,ed0hutz,ed0huza,ed0hw0g,ed0hwt5,ed0hxt3,ed0i0bp,ed0i1hc,ed0i1la,ed0i1mw,ed0i217,ed0i294,ed0i2px,ed0i2s7,ed0i3n5,ed0i4xt,ed0i50b,ed0i9r6,ed0i9t0,ed0i9t6,ed0iabz,ed0iazn,ed0ic3d,ed0icby,ed0icf1,ed0ichn,ed0ie6z,ed0ieff,ed0iefp,ed0if4a,ed0if92,ed0ihc4,ed0iivi,ed0ijlc,ed0ikh9,ed0ildz,ed0iluk,ed0im3x,ed0imbv,ed0imsj,ed0in41,ed0inar,ed0iobk,ed0ioeo,ed0ioxw,ed0ip46,ed0ip8g,ed0ipg1,ed0irdq,ed0irf5,ed0irxr,ed0isgo,ed0ito0,ed0itxw,ed0ivh2,ed0ivpb,ed0iw0z,ed0iwvs,ed0ixac,ed0ixl6,ed0ixmt,ed0iy8x,ed0j01r,ed0j17h,ed0j41c,ed0j46a,ed0j4cs,ed0j4mx,ed0j5xt,ed0j7i6,ed0j7og,ed0j7u0,ed0j9fq,ed0j9oc,ed0j9qe,ed0j9x9,ed0ja6e,ed0ja7i,ed0jblo,ed0jbnw,ed0jcsp,ed0jd72,ed0jea0,ed0jf2h,ed0jfb1,ed0jfh5,ed0jgtn,ed0jh19,ed0jh1n,ed0jhum,ed0ji74,ed0jjc8,ed0jkav,ed0jkdk,ed0jkfx,ed0jkic,ed0jklw,ed0jl9l\n"
     ]
    },
    {
     "name": "stderr",
     "output_type": "stream",
     "text": [
      "\r",
      " 83%|███████████████████████████████████▋       | 34/41 [00:50<00:09,  1.35s/it]"
     ]
    },
    {
     "name": "stdout",
     "output_type": "stream",
     "text": [
      "https://api.pushshift.io/reddit/comment/search?ids=ed0jm1g,ed0jm60,ed0jnba,ed0jpl5,ed0jrj4,ed0jtok,ed0jui4,ed0jvct,ed0jw5k,ed0jy6g,ed0jymy,ed0jywf,ed0jz6k,ed0jznt,ed0k05g,ed0k0m4,ed0k1as,ed0k1ph,ed0k1qc,ed0k1qd,ed0k1rf,ed0k1vb,ed0k25i,ed0k2ca,ed0k2pz,ed0k2ue,ed0k3ff,ed0k6hg,ed0k6s9,ed0k753,ed0k7sd,ed0k8im,ed0k90p,ed0k979,ed0k9vz,ed0k9ya,ed0ka59,ed0ka7q,ed0kaht,ed0kavx,ed0kaxw,ed0kbx1,ed0kc6p,ed0kdf7,ed0ke55,ed0kel3,ed0kkm4,ed0kl0y,ed0ko2x,ed0kofe,ed0kohp,ed0kos2,ed0kt1a,ed0ku8o,ed0kwkm,ed0kxb0,ed0kxm7,ed0kxzi,ed0kzhx,ed0kzys,ed0l0eh,ed0l1cu,ed0l2rq,ed0l32x,ed0l4s8,ed0l7c3,ed0l9sg,ed0lakd,ed0lawp,ed0lbde,ed0lf87,ed0lh0v,ed0liq0,ed0lj2x,ed0lkry,ed0llwh,ed0lm0x,ed0lm5n,ed0lnd1,ed0lnsx,ed0lo3q,ed0lp61,ed0lq0q,ed0lrow,ed0lrsf,ed0lrt2,ed0lsb6,ed0ltr5,ed0lu7e,ed0lv5t,ed0lvkh,ed0lx71,ed0lzvg,ed0m01v,ed0m0v0,ed0m1vq,ed0m267,ed0m292,ed0m688,ed0m6ox\n"
     ]
    },
    {
     "name": "stderr",
     "output_type": "stream",
     "text": [
      "\r",
      " 85%|████████████████████████████████████▋      | 35/41 [00:51<00:08,  1.37s/it]"
     ]
    },
    {
     "name": "stdout",
     "output_type": "stream",
     "text": [
      "https://api.pushshift.io/reddit/comment/search?ids=ed0m6z0,ed0m8t8,ed0md64,ed0mde7,ed0mf8u,ed0mfgo,ed0mflt,ed0mi1v,ed0mite,ed0mkkd,ed0mlzt,ed0mm1f,ed0mn6s,ed0mn7w,ed0mnde,ed0mnvn,ed0mpo1,ed0mqit,ed0mqkw,ed0mqq4,ed0mrvz,ed0mygr,ed0myoz,ed0n034,ed0n0xz,ed0n0zh,ed0n1lo,ed0n2ln,ed0n30e,ed0n3dg,ed0n4fs,ed0n4lu,ed0n6qf,ed0n757,ed0n797,ed0n7m7,ed0n8uy,ed0nahb,ed0nc21,ed0ndas,ed0neb9,ed0nel2,ed0nho2,ed0njzh,ed0nkxh,ed0nl5r,ed0nmqk,ed0nnci,ed0no28,ed0no3i,ed0noah,ed0noef,ed0nowc,ed0np6b,ed0npse,ed0ns4v,ed0nufo,ed0nx9y,ed0o386,ed0o64l,ed0o7oy,ed0o7yt,ed0o9eu,ed0obra,ed0oee7,ed0ogmq,ed0ojee,ed0okhy,ed0om44,ed0oq0z,ed0oqeh,ed0oqkc,ed0ot7q,ed0ox2b,ed0oxrq,ed0ozq1,ed0ozto,ed0p07m,ed0p0hj,ed0p6fa,ed0p73g,ed0p7rp,ed0p9vj,ed0pbe7,ed0pd76,ed0pdnj,ed0pdzf,ed0ped1,ed0pl4o,ed0plx3,ed0ptdi,ed0pv9h,ed0pv9m,ed0pwx9,ed0pym4,ed0q27i,ed0q4br,ed0q53m,ed0q5jn,ed0qbyx\n"
     ]
    },
    {
     "name": "stderr",
     "output_type": "stream",
     "text": [
      "\r",
      " 88%|█████████████████████████████████████▊     | 36/41 [00:52<00:06,  1.38s/it]"
     ]
    },
    {
     "name": "stdout",
     "output_type": "stream",
     "text": [
      "https://api.pushshift.io/reddit/comment/search?ids=ed0qdol,ed0qdus,ed0qhav,ed0qlqh,ed0qn22,ed0qn8i,ed0qonj,ed0qpry,ed0qrtk,ed0qtek,ed0qtx5,ed0qu0w,ed0r0a6,ed0r0lt,ed0r1bv,ed0r3sj,ed0r4rz,ed0r5qh,ed0r7f8,ed0r7fm,ed0r8mk,ed0rb5x,ed0rbye,ed0reoq,ed0rg9f,ed0rhdr,ed0rjin,ed0rklb,ed0rnl5,ed0ro9k,ed0roz8,ed0rung,ed0rwfj,ed0ry16,ed0ryvo,ed0s32j,ed0s36v,ed0s45a,ed0s7lr,ed0s8b9,ed0saj3,ed0sb8z,ed0sbob,ed0sck4,ed0sd76,ed0seq0,ed0sf3r,ed0sfa7,ed0shge,ed0sjpr,ed0sk2a,ed0sk3n,ed0sngw,ed0soyi,ed0sq7t,ed0sqqy,ed0srms,ed0srpk,ed0sry3,ed0sxpw,ed0sydn,ed0t032,ed0t30e,ed0t4d6,ed0t5b5,ed0t74m,ed0t7dg,ed0t8pa,ed0t9l0,ed0ta7s,ed0taos,ed0tbnn,ed0tch0,ed0tcvd,ed0tdix,ed0teh2,ed0tixf,ed0tj69,ed0tmoc,ed0tptm,ed0tr27,ed0trea,ed0tug6,ed0tuil,ed0twjv,ed0twk6,ed0tzhy,ed0tzkb,ed0u15t,ed0u33h,ed0u440,ed0u45j,ed0u57u,ed0u5fu,ed0u5l0,ed0ubii,ed0udcb,ed0ug8p,ed0ul5t,ed0upyt\n"
     ]
    },
    {
     "name": "stderr",
     "output_type": "stream",
     "text": [
      "\r",
      " 90%|██████████████████████████████████████▊    | 37/41 [00:54<00:05,  1.39s/it]"
     ]
    },
    {
     "name": "stdout",
     "output_type": "stream",
     "text": [
      "https://api.pushshift.io/reddit/comment/search?ids=ed0urwp,ed0utat,ed0uvd5,ed0uvgn,ed0uwis,ed0v0p9,ed0v20y,ed0v2y7,ed0v3d4,ed0v3e7,ed0v3u5,ed0v47w,ed0v5l6,ed0v6ty,ed0v8xf,ed0vaka,ed0vcld,ed0vffc,ed0vhbb,ed0vi55,ed0vku3,ed0vn8j,ed0vnkl,ed0vogc,ed0vtcq,ed0vvik,ed0vwxg,ed0w7ps,ed0wb9j,ed0wbih,ed0wct5,ed0wn2m,ed0wne1,ed0wng6,ed0wpuw,ed0wy83,ed0x3eb,ed0xa1n,ed0xb91,ed0xet8,ed0xjsq,ed0xn9h,ed0xtwg,ed0xu1x,ed0y1rl,ed0y1x0,ed0y3kz,ed0y3q1,ed0yd9g,ed0yfvo,ed0ygvb,ed0yhl2,ed0yiws,ed0yk5u,ed0ylhv,ed0yuo7,ed0yv7v,ed0yvc7,ed0yw18,ed0yxuh,ed0yylg,ed0z99v,ed0zct4,ed0zd6j,ed0zffz,ed0zfng,ed0zij1,ed0zkmc,ed0zku0,ed0zngk,ed0zow7,ed0zp76,ed0zr9l,ed0zrk0,ed0zs27,ed0zudc,ed0zx1c,ed0zxlu,ed0zzrz,ed100af,ed101dn,ed102ca,ed1057k,ed106d6,ed107vs,ed108qo,ed108wp,ed109kh,ed10jyw,ed10nwo,ed10s64,ed10ven,ed10vka,ed112vc,ed113r3,ed114bq,ed11gs3,ed11huu,ed11hwa,ed11lcs\n"
     ]
    },
    {
     "name": "stderr",
     "output_type": "stream",
     "text": [
      "\r",
      " 93%|███████████████████████████████████████▊   | 38/41 [00:55<00:04,  1.38s/it]"
     ]
    },
    {
     "name": "stdout",
     "output_type": "stream",
     "text": [
      "https://api.pushshift.io/reddit/comment/search?ids=ed11mh7,ed11rw5,ed11uer,ed11w25,ed120cd,ed1230i,ed124s6,ed1253w,ed126p5,ed127f5,ed128gr,ed12alo,ed12and,ed12b1f,ed12cl6,ed12f9y,ed12gvn,ed12khs,ed12l6b,ed12sf8,ed12z4w,ed13080,ed133uh,ed133yq,ed135j9,ed135n0,ed13fao,ed13kpv,ed13lza,ed13mgv,ed13nmm,ed13nt2,ed13poc,ed13s5x,ed13s9l,ed13x5e,ed13ya1,ed13zbn,ed14103,ed1465u,ed14cf3,ed14ev4,ed14fmg,ed14ilx,ed14j77,ed14q63,ed14sej,ed1500t,ed159ci,ed15bf0,ed15f2b,ed15i0s,ed15i8f,ed15l85,ed15n9z,ed15pua,ed15wrr,ed1630f,ed163f6,ed164cw,ed166bf,ed168ly,ed169vg,ed16ivv,ed16m8u,ed16udm,ed16uio,ed170rw,ed176bf,ed17a40,ed17dym,ed17kzs,ed17lan,ed17nng,ed17try,ed17wpl,ed18aws,ed18bq2,ed18cf1,ed18faw,ed18n92,ed18olg,ed18w0x,ed18xw2,ed18y27,ed18zku,ed1908n,ed191wl,ed192pf,ed196gq,ed19azx,ed19crs,ed19d1q,ed19gqj,ed19h7v,ed19hbg,ed19hdb,ed19hvb,ed19kle,ed19liz\n"
     ]
    },
    {
     "name": "stderr",
     "output_type": "stream",
     "text": [
      "\r",
      " 95%|████████████████████████████████████████▉  | 39/41 [00:57<00:02,  1.38s/it]"
     ]
    },
    {
     "name": "stdout",
     "output_type": "stream",
     "text": [
      "https://api.pushshift.io/reddit/comment/search?ids=ed19nzh,ed19qy6,ed19v5p,ed19we9,ed19z9b,ed1a2z6,ed1a4p5,ed1a59n,ed1a6m6,ed1ad4q,ed1aelz,ed1afyd,ed1ahj9,ed1al0z,ed1ar44,ed1ats8,ed1b098,ed1b7rd,ed1ba8x,ed1bae2,ed1bc5n,ed1bdau,ed1bdg2,ed1bgb1,ed1bhfc,ed1blbg,ed1bqox,ed1bqv1,ed1buds,ed1bug2,ed1bvg9,ed1c0ae,ed1c4la,ed1ccm2,ed1ccpi,ed1cg01,ed1cjjh,ed1cjvd,ed1cu6c,ed1d2qr,ed1db17,ed1dicg,ed1dlek,ed1dou4,ed1dqt9,ed1dzo3,ed1e00q,ed1e0pu,ed1e0u3,ed1e17j,ed1e5id,ed1e8ov,ed1ebs8,ed1egqz,ed1ehes,ed1ehvn,ed1eoyh,ed1erz3,ed1f1kf,ed1f8zy,ed1f9e2,ed1fb0c,ed1fepv,ed1fhwr,ed1fjx9,ed1fkti,ed1fn6y,ed1fpf0,ed1frqe,ed1fww6,ed1fxyn,ed1gcw2,ed1gh01,ed1ghzm,ed1giw0,ed1gjnu,ed1gmdq,ed1gv9y,ed1gz14,ed1gzfs,ed1h0h3,ed1h0ij,ed1h6fr,ed1h8g6,ed1hc9q,ed1hdrb,ed1hjmo,ed1hlpr,ed1hpo4,ed1hq93,ed1hqn0,ed1hqy1,ed1hsdf,ed1i2ee,ed1i2t7,ed1i3o7,ed1idvm,ed1iigg,ed1iksu,ed1ilmm\n"
     ]
    },
    {
     "name": "stderr",
     "output_type": "stream",
     "text": [
      "\r",
      " 98%|█████████████████████████████████████████▉ | 40/41 [00:58<00:01,  1.39s/it]"
     ]
    },
    {
     "name": "stdout",
     "output_type": "stream",
     "text": [
      "https://api.pushshift.io/reddit/comment/search?ids=ed1inqp,ed1invm,ed1ioin,ed1it9j,ed1j5j1,ed1j9gy,ed1j9vq,ed1jcyc,ed1jpby,ed1jqey,ed1jtv6,ed1jvey,ed1k2fu,ed1k8fl,ed1kgl0,ed1kh7w,ed1khal,ed1klo7,ed1kncw,ed1lb3u,ed1ljqg,ed1lkm5,ed1lkt7,ed1losh,ed1lpvb,ed1lxkr,ed1lzsc,ed1m6to,ed1maay,ed1mqqh,ed1n91w,ed1nbn1,ed1ncm4,ed1o1mm,ed1o59b,ed1o95h,ed1o9g2,ed1oe9j,ed1ohp6,ed1ojtf,ed1olrv,ed1one6,ed1ot7h,ed1oulg,ed1p0er,ed1p2f1,ed1p716,ed1pa92,ed1pao9,ed1pkmi,ed1plyy,ed1q9n0,ed1qgda,ed1qgp2,ed1qozk,ed1quc2,ed1qzqi,ed1r18c,ed1r1nt,ed1r1ow,ed1rjj7,ed1rn4b,ed1rs08,ed1rue4,ed1rymh,ed1s350,ed1s6zs,ed1s8mv,ed1sevo,ed1six5,ed1smap,ed1stv7,ed1t4j4,ed1t71i,ed1tbjq,ed1tjmx,ed1tkg2,ed1tkvb,ed1toy0,ed1tp7d,ed1u5rf,ed1u94v,ed1ucqd,ed1ugue,ed1up2y,ed1uujw,ed1va1j,ed1vdt4,ed1vewi,ed1vi3g,ed1vmd9,ed1wbax,ed1wbcu,ed1wr08,ed1x83c,ed1x9ih,ed1xb12,ed1xbem,ed1xd4q,ed1xinh\n"
     ]
    },
    {
     "name": "stderr",
     "output_type": "stream",
     "text": [
      "100%|███████████████████████████████████████████| 41/41 [01:00<00:00,  1.46s/it]"
     ]
    },
    {
     "name": "stdout",
     "output_type": "stream",
     "text": [
      "https://api.pushshift.io/reddit/comment/search?ids=ed1xl17,ed1yfsy,ed1yjr9,ed1ykh5,ed1ym52,ed1yph7,ed1yzdf,ed1z014,ed1z2bz,ed1z66o,ed1zc69,ed205vd,ed207cp,ed207o9,ed20hsr,ed20hy8,ed20ie7,ed20k12,ed20s2q,ed211gx,ed21f7j,ed21sfw,ed21w5r,ed222e2,ed22f56,ed22mh7,ed22rv9,ed22vvj,ed230zw,ed232k5,ed246s0,ed247ii,ed2496i,ed24jbc,ed24kxk,ed24plq,ed251f3,ed26e2f,ed273ng,ed286yq,ed28re3,ed29ano,ed2azws,ed2b2zc,ed2b4bk,ed2b648,ed2bfpy,ed2brxy,ed2bxk5,ed2c6xl,ed2cf1o,ed2ck13,ed2cykw,ed2d3o5,ed2d7id,ed2divm,ed2dl9o,ed2e2x2,ed2e5hk,ed2ewtd,ed2f9jh,ed2fql0,ed2gbdd,ed2gdph,ed2gzke,ed2hv3q,ed2hx3v,ed2irx1,ed2l1pc,ed2lho3,ed2mc4p,ed2mwhp,ed2o53q,ed2oy20,ed2qmfj,ed2qo9o,ed2qu6o,ed2rgo9,ed2sm8y,ed2ydl4,ed363z5,ed36ogt,ed377ve,ed3915l,ed3934t,ed3dpln,ed3fb0g,ed3m8av,ed3tt8h,ed3tzhd,ed3up9w,ed3waop,ed42d9d,ed42i3w,ed42z7z,ed44fep,ed4gltm,ed4l6pb,ed4lgc5,ed4wejf\n"
     ]
    },
    {
     "name": "stderr",
     "output_type": "stream",
     "text": [
      "\n"
     ]
    },
    {
     "name": "stdout",
     "output_type": "stream",
     "text": [
      "https://api.pushshift.io/reddit/comment/search?ids=id\n"
     ]
    }
   ],
   "source": [
    "N = len(comment_ids)\n",
    "batch_size = 100\n",
    "num_batches = N // batch_size\n",
    "\n",
    "\n",
    "for batch in tqdm(range(num_batches)):\n",
    "    s = batch * batch_size\n",
    "    t = s + batch_size\n",
    "    comment_query = ','.join(comment_ids[s:t]['id'])\n",
    "#     print(comment_query)\n",
    "    crawl_comments(comment_query)\n",
    "\n",
    "if N % batch_size != 0:\n",
    "    comment_query = ','.join(comment_ids[(num_batches*batch_size):N])\n",
    "    crawl_comments(comment_query)"
   ]
  },
  {
   "cell_type": "code",
   "execution_count": 371,
   "id": "ed3b130d",
   "metadata": {},
   "outputs": [],
   "source": [
    "comment_df = pd.DataFrame(comment_dict)\n"
   ]
  },
  {
   "cell_type": "code",
   "execution_count": 372,
   "id": "bd5690dd",
   "metadata": {},
   "outputs": [
    {
     "data": {
      "text/html": [
       "<div>\n",
       "<style scoped>\n",
       "    .dataframe tbody tr th:only-of-type {\n",
       "        vertical-align: middle;\n",
       "    }\n",
       "\n",
       "    .dataframe tbody tr th {\n",
       "        vertical-align: top;\n",
       "    }\n",
       "\n",
       "    .dataframe thead th {\n",
       "        text-align: right;\n",
       "    }\n",
       "</style>\n",
       "<table border=\"1\" class=\"dataframe\">\n",
       "  <thead>\n",
       "    <tr style=\"text-align: right;\">\n",
       "      <th></th>\n",
       "      <th>id</th>\n",
       "      <th>link_id</th>\n",
       "      <th>parent_id</th>\n",
       "      <th>created_utc</th>\n",
       "      <th>body</th>\n",
       "      <th>subreddit</th>\n",
       "      <th>subreddit_id</th>\n",
       "      <th>score</th>\n",
       "      <th>author_fullname</th>\n",
       "    </tr>\n",
       "  </thead>\n",
       "  <tbody>\n",
       "    <tr>\n",
       "      <th>0</th>\n",
       "      <td>ecywhgg</td>\n",
       "      <td>t3_abb5l5</td>\n",
       "      <td>t3_abb5l5</td>\n",
       "      <td>1546289821</td>\n",
       "      <td>A year ago</td>\n",
       "      <td>AskReddit</td>\n",
       "      <td>t5_2qh1i</td>\n",
       "      <td>1</td>\n",
       "      <td>t2_1ibkaipv</td>\n",
       "    </tr>\n",
       "    <tr>\n",
       "      <th>1</th>\n",
       "      <td>ecywzbr</td>\n",
       "      <td>t3_abb5l5</td>\n",
       "      <td>t3_abb5l5</td>\n",
       "      <td>1546290181</td>\n",
       "      <td>Several years ago. \\nI paid a married woman I ...</td>\n",
       "      <td>AskReddit</td>\n",
       "      <td>t5_2qh1i</td>\n",
       "      <td>1</td>\n",
       "      <td>t2_c1y4e</td>\n",
       "    </tr>\n",
       "    <tr>\n",
       "      <th>2</th>\n",
       "      <td>ecyx22j</td>\n",
       "      <td>t3_abb5l5</td>\n",
       "      <td>t3_abb5l5</td>\n",
       "      <td>1546290236</td>\n",
       "      <td>One of my fetishes comes directly from childho...</td>\n",
       "      <td>AskReddit</td>\n",
       "      <td>t5_2qh1i</td>\n",
       "      <td>1</td>\n",
       "      <td>t2_hx2tf</td>\n",
       "    </tr>\n",
       "    <tr>\n",
       "      <th>3</th>\n",
       "      <td>ecyx3la</td>\n",
       "      <td>t3_abb5l5</td>\n",
       "      <td>t3_abb5l5</td>\n",
       "      <td>1546290268</td>\n",
       "      <td>I only am only interested in chubby women, doe...</td>\n",
       "      <td>AskReddit</td>\n",
       "      <td>t5_2qh1i</td>\n",
       "      <td>1</td>\n",
       "      <td>t2_2kfp1v0s</td>\n",
       "    </tr>\n",
       "    <tr>\n",
       "      <th>4</th>\n",
       "      <td>ecyxg3k</td>\n",
       "      <td>t3_abb5l5</td>\n",
       "      <td>t1_ecywzbr</td>\n",
       "      <td>1546290519</td>\n",
       "      <td>Uh..</td>\n",
       "      <td>AskReddit</td>\n",
       "      <td>t5_2qh1i</td>\n",
       "      <td>1</td>\n",
       "      <td>t2_11804v</td>\n",
       "    </tr>\n",
       "    <tr>\n",
       "      <th>...</th>\n",
       "      <td>...</td>\n",
       "      <td>...</td>\n",
       "      <td>...</td>\n",
       "      <td>...</td>\n",
       "      <td>...</td>\n",
       "      <td>...</td>\n",
       "      <td>...</td>\n",
       "      <td>...</td>\n",
       "      <td>...</td>\n",
       "    </tr>\n",
       "    <tr>\n",
       "      <th>4092</th>\n",
       "      <td>ed44fep</td>\n",
       "      <td>t3_abb5l5</td>\n",
       "      <td>t1_ed1pa92</td>\n",
       "      <td>1546473459</td>\n",
       "      <td>It is now.</td>\n",
       "      <td>AskReddit</td>\n",
       "      <td>t5_2qh1i</td>\n",
       "      <td>1</td>\n",
       "      <td>t2_pdo8prc</td>\n",
       "    </tr>\n",
       "    <tr>\n",
       "      <th>4093</th>\n",
       "      <td>ed4gltm</td>\n",
       "      <td>t3_abb5l5</td>\n",
       "      <td>t1_ed42d9d</td>\n",
       "      <td>1546483467</td>\n",
       "      <td>I’m not sure if you’re kidding</td>\n",
       "      <td>AskReddit</td>\n",
       "      <td>t5_2qh1i</td>\n",
       "      <td>1</td>\n",
       "      <td>t2_7na0y</td>\n",
       "    </tr>\n",
       "    <tr>\n",
       "      <th>4094</th>\n",
       "      <td>ed4l6pb</td>\n",
       "      <td>t3_abb5l5</td>\n",
       "      <td>t3_abb5l5</td>\n",
       "      <td>1546487448</td>\n",
       "      <td>When I was around 11 or 12 (1997) discovered t...</td>\n",
       "      <td>AskReddit</td>\n",
       "      <td>t5_2qh1i</td>\n",
       "      <td>1</td>\n",
       "      <td>t2_p00yp</td>\n",
       "    </tr>\n",
       "    <tr>\n",
       "      <th>4095</th>\n",
       "      <td>ed4lgc5</td>\n",
       "      <td>t3_abb5l5</td>\n",
       "      <td>t1_ed14fmg</td>\n",
       "      <td>1546487695</td>\n",
       "      <td>And why did you break up?</td>\n",
       "      <td>AskReddit</td>\n",
       "      <td>t5_2qh1i</td>\n",
       "      <td>1</td>\n",
       "      <td>t2_p00yp</td>\n",
       "    </tr>\n",
       "    <tr>\n",
       "      <th>4096</th>\n",
       "      <td>ed4wejf</td>\n",
       "      <td>t3_abb5l5</td>\n",
       "      <td>t1_ecznw6d</td>\n",
       "      <td>1546499285</td>\n",
       "      <td>My ex was into this but I could never bring my...</td>\n",
       "      <td>AskReddit</td>\n",
       "      <td>t5_2qh1i</td>\n",
       "      <td>1</td>\n",
       "      <td>t2_26onuk2k</td>\n",
       "    </tr>\n",
       "  </tbody>\n",
       "</table>\n",
       "<p>4097 rows × 9 columns</p>\n",
       "</div>"
      ],
      "text/plain": [
       "           id    link_id   parent_id  created_utc  \\\n",
       "0     ecywhgg  t3_abb5l5   t3_abb5l5   1546289821   \n",
       "1     ecywzbr  t3_abb5l5   t3_abb5l5   1546290181   \n",
       "2     ecyx22j  t3_abb5l5   t3_abb5l5   1546290236   \n",
       "3     ecyx3la  t3_abb5l5   t3_abb5l5   1546290268   \n",
       "4     ecyxg3k  t3_abb5l5  t1_ecywzbr   1546290519   \n",
       "...       ...        ...         ...          ...   \n",
       "4092  ed44fep  t3_abb5l5  t1_ed1pa92   1546473459   \n",
       "4093  ed4gltm  t3_abb5l5  t1_ed42d9d   1546483467   \n",
       "4094  ed4l6pb  t3_abb5l5   t3_abb5l5   1546487448   \n",
       "4095  ed4lgc5  t3_abb5l5  t1_ed14fmg   1546487695   \n",
       "4096  ed4wejf  t3_abb5l5  t1_ecznw6d   1546499285   \n",
       "\n",
       "                                                   body  subreddit  \\\n",
       "0                                            A year ago  AskReddit   \n",
       "1     Several years ago. \\nI paid a married woman I ...  AskReddit   \n",
       "2     One of my fetishes comes directly from childho...  AskReddit   \n",
       "3     I only am only interested in chubby women, doe...  AskReddit   \n",
       "4                                                  Uh..  AskReddit   \n",
       "...                                                 ...        ...   \n",
       "4092                                        It is now.   AskReddit   \n",
       "4093                    I’m not sure if you’re kidding   AskReddit   \n",
       "4094  When I was around 11 or 12 (1997) discovered t...  AskReddit   \n",
       "4095                          And why did you break up?  AskReddit   \n",
       "4096  My ex was into this but I could never bring my...  AskReddit   \n",
       "\n",
       "     subreddit_id  score author_fullname  \n",
       "0        t5_2qh1i      1     t2_1ibkaipv  \n",
       "1        t5_2qh1i      1        t2_c1y4e  \n",
       "2        t5_2qh1i      1        t2_hx2tf  \n",
       "3        t5_2qh1i      1     t2_2kfp1v0s  \n",
       "4        t5_2qh1i      1       t2_11804v  \n",
       "...           ...    ...             ...  \n",
       "4092     t5_2qh1i      1      t2_pdo8prc  \n",
       "4093     t5_2qh1i      1        t2_7na0y  \n",
       "4094     t5_2qh1i      1        t2_p00yp  \n",
       "4095     t5_2qh1i      1        t2_p00yp  \n",
       "4096     t5_2qh1i      1     t2_26onuk2k  \n",
       "\n",
       "[4097 rows x 9 columns]"
      ]
     },
     "execution_count": 372,
     "metadata": {},
     "output_type": "execute_result"
    }
   ],
   "source": [
    "comment_df"
   ]
  },
  {
   "cell_type": "code",
   "execution_count": 183,
   "id": "06caeb62",
   "metadata": {},
   "outputs": [],
   "source": [
    "comment_df.to_csv('../pushshift/jokes_comment_2021_1_1_2022_1_1.csv', index = False)"
   ]
  },
  {
   "cell_type": "code",
   "execution_count": null,
   "id": "cff5e463",
   "metadata": {},
   "outputs": [],
   "source": []
  },
  {
   "cell_type": "markdown",
   "id": "7e4ebe21",
   "metadata": {},
   "source": [
    "# crawl r/AskReddit"
   ]
  },
  {
   "cell_type": "code",
   "execution_count": null,
   "id": "d90408ab",
   "metadata": {},
   "outputs": [],
   "source": [
    "Crawl Submissions from r/Jokes"
   ]
  }
 ],
 "metadata": {
  "kernelspec": {
   "display_name": "Python 3 (ipykernel)",
   "language": "python",
   "name": "python3"
  },
  "language_info": {
   "codemirror_mode": {
    "name": "ipython",
    "version": 3
   },
   "file_extension": ".py",
   "mimetype": "text/x-python",
   "name": "python",
   "nbconvert_exporter": "python",
   "pygments_lexer": "ipython3",
   "version": "3.7.11"
  }
 },
 "nbformat": 4,
 "nbformat_minor": 5
}
